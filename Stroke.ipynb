{
 "cells": [
  {
   "cell_type": "markdown",
   "metadata": {
    "colab": {
     "base_uri": "https://localhost:8080/"
    },
    "executionInfo": {
     "elapsed": 4623,
     "status": "ok",
     "timestamp": 1684264636317,
     "user": {
      "displayName": "SOONG SING YING",
      "userId": "12604879261192349492"
     },
     "user_tz": -480
    },
    "id": "P1CmWSMARX5F",
    "outputId": "93d4605a-c040-4d1f-b9a3-199343c53994"
   },
   "source": [
    "from google.colab import drive\n",
    "drive.mount('/content/drive')"
   ]
  },
  {
   "cell_type": "code",
   "execution_count": 1,
   "metadata": {},
   "outputs": [],
   "source": [
    "import os"
   ]
  },
  {
   "cell_type": "code",
   "execution_count": 2,
   "metadata": {},
   "outputs": [],
   "source": [
    "os.chdir('C:\\\\Users\\\\peili\\\\Downloads\\\\Stroke Prediction')"
   ]
  },
  {
   "cell_type": "code",
   "execution_count": 3,
   "metadata": {},
   "outputs": [
    {
     "data": {
      "text/plain": [
       "'C:\\\\Users\\\\peili\\\\Downloads\\\\Stroke Prediction'"
      ]
     },
     "execution_count": 3,
     "metadata": {},
     "output_type": "execute_result"
    }
   ],
   "source": [
    "os.getcwd()"
   ]
  },
  {
   "cell_type": "markdown",
   "metadata": {
    "id": "TQ-SOrWTrwKp"
   },
   "source": [
    "Import data"
   ]
  },
  {
   "cell_type": "code",
   "execution_count": 4,
   "metadata": {
    "colab": {
     "base_uri": "https://localhost:8080/"
    },
    "executionInfo": {
     "elapsed": 2043,
     "status": "ok",
     "timestamp": 1684264711625,
     "user": {
      "displayName": "Clarice Lau",
      "userId": "09231424434464769679"
     },
     "user_tz": -480
    },
    "id": "7TirfO0wojJX",
    "outputId": "1c6aa514-b978-45fd-add6-39c8d6a3d9b6"
   },
   "outputs": [
    {
     "name": "stdout",
     "output_type": "stream",
     "text": [
      "       gender   age  hypertension  heart_disease ever_married work_type  \\\n",
      "id                                                                        \n",
      "67     Female  17.0             0              0           No   Private   \n",
      "77     Female  13.0             0              0           No  children   \n",
      "84       Male  55.0             0              0          Yes   Private   \n",
      "91     Female  42.0             0              0           No   Private   \n",
      "99     Female  31.0             0              0           No   Private   \n",
      "...       ...   ...           ...            ...          ...       ...   \n",
      "72911  Female  57.0             1              0          Yes   Private   \n",
      "72914  Female  19.0             0              0           No   Private   \n",
      "72915  Female  45.0             0              0          Yes   Private   \n",
      "72918  Female  53.0             1              0          Yes   Private   \n",
      "72940  Female   2.0             0              0           No  children   \n",
      "\n",
      "      Residence_type  avg_glucose_level   bmi   smoking_status  stroke  \n",
      "id                                                                      \n",
      "67             Urban              92.97   NaN  formerly smoked       0  \n",
      "77             Rural              85.81  18.6          Unknown       0  \n",
      "84             Urban              89.17  31.5     never smoked       0  \n",
      "91             Urban              98.53  18.5     never smoked       0  \n",
      "99             Urban             108.89  52.3          Unknown       0  \n",
      "...              ...                ...   ...              ...     ...  \n",
      "72911          Rural             129.54  60.9           smokes       0  \n",
      "72914          Urban              90.57  24.2          Unknown       0  \n",
      "72915          Urban             172.33  45.3  formerly smoked       0  \n",
      "72918          Urban              62.55  30.3          Unknown       1  \n",
      "72940          Urban             102.92  17.6          Unknown       0  \n",
      "\n",
      "[5110 rows x 11 columns]\n"
     ]
    }
   ],
   "source": [
    "import pandas as pd\n",
    "import numpy as np \n",
    "import matplotlib.pyplot as plt \n",
    "import seaborn as sns\n",
    "\n",
    "path = 'Stroke.csv' \n",
    "data = pd.read_csv(path)\n",
    "data = data.set_index(data.columns[0])\n",
    "print(data)"
   ]
  },
  {
   "cell_type": "code",
   "execution_count": 5,
   "metadata": {},
   "outputs": [
    {
     "name": "stdout",
     "output_type": "stream",
     "text": [
      "<class 'pandas.core.frame.DataFrame'>\n",
      "Int64Index: 5110 entries, 67 to 72940\n",
      "Data columns (total 11 columns):\n",
      " #   Column             Non-Null Count  Dtype  \n",
      "---  ------             --------------  -----  \n",
      " 0   gender             5110 non-null   object \n",
      " 1   age                5110 non-null   float64\n",
      " 2   hypertension       5110 non-null   int64  \n",
      " 3   heart_disease      5110 non-null   int64  \n",
      " 4   ever_married       5110 non-null   object \n",
      " 5   work_type          5110 non-null   object \n",
      " 6   Residence_type     5110 non-null   object \n",
      " 7   avg_glucose_level  5110 non-null   float64\n",
      " 8   bmi                4909 non-null   float64\n",
      " 9   smoking_status     5110 non-null   object \n",
      " 10  stroke             5110 non-null   int64  \n",
      "dtypes: float64(3), int64(3), object(5)\n",
      "memory usage: 479.1+ KB\n"
     ]
    }
   ],
   "source": [
    "data.info()"
   ]
  },
  {
   "cell_type": "markdown",
   "metadata": {
    "id": "T79EoDPNseUi"
   },
   "source": [
    "Data Description\n",
    "\n",
    "1) id: unique identifier\n",
    "- delete id, replace with index\n",
    "\n",
    "2) gender: \"Male\", \"Female\" or \"Other\" \n",
    "- Remove other\n",
    "\n",
    "3) age: age of the patient\n",
    "- Detect Outlier\n",
    "\n",
    "4) hypertension: 0 if the patient doesn't have hypertension, 1 if the patient has hypertension\n",
    "\n",
    "5) heart_disease: 0 if the patient doesn't have any heart diseases, 1 if the patient has a heart disease\n",
    "\n",
    "6) ever_married: \"No\" or \"Yes\"\n",
    "\n",
    "7) work_type: \"children\", \"Govt_jov\", \"Never_worked\", \"Private\" or \"Self-employed\"\n",
    "\n",
    "8) Residence_type: \"Rural\" or \"Urban\"\n",
    "\n",
    "9) avg_glucose_level: average glucose level in blood\n",
    "- Detect Outlier\n",
    "\n",
    "10) bmi: body mass index\n",
    "- Remove N/A \n",
    "- Detect Outlier\n",
    "\n",
    "11) smoking_status: \"formerly smoked\", \"never smoked\", \"smokes\" or \"Unknown\"*\n",
    "\n",
    "12) stroke: 1 if the patient had a stroke or 0 if not"
   ]
  },
  {
   "cell_type": "markdown",
   "metadata": {
    "id": "s6jUN0BZWOuL"
   },
   "source": [
    "Remove N/A and outliers (Timothy)\n",
    "- BMI (Remove Outlier + imputation - average replace N/A)\n",
    "- Remove id\n",
    "- Sorting Data (Based on index)"
   ]
  },
  {
   "cell_type": "markdown",
   "metadata": {
    "id": "RQ0uRD_mVj8-"
   },
   "source": [
    "Data Encoding\n",
    "- Gender\n",
    "- Ever_Married\n",
    "- Work type\n",
    "- Residence type\n",
    "- Smoking status"
   ]
  },
  {
   "cell_type": "markdown",
   "metadata": {
    "id": "ntQwyYf8u3gw"
   },
   "source": [
    "EDA\n",
    "- Description statistic (Mean, Min, Max......)\n",
    "- Graph"
   ]
  },
  {
   "cell_type": "markdown",
   "metadata": {
    "id": "V11PPinuV-Y_"
   },
   "source": [
    "Feature Selection\n",
    "-Correlation Matrix"
   ]
  },
  {
   "cell_type": "markdown",
   "metadata": {
    "id": "D1PC1vVTcBiM"
   },
   "source": [
    "# Data Pre-Processing"
   ]
  },
  {
   "cell_type": "markdown",
   "metadata": {
    "id": "QIcu0Xu7x62F"
   },
   "source": [
    "## Data Overview"
   ]
  },
  {
   "cell_type": "code",
   "execution_count": 6,
   "metadata": {
    "colab": {
     "base_uri": "https://localhost:8080/",
     "height": 708
    },
    "executionInfo": {
     "elapsed": 367,
     "status": "ok",
     "timestamp": 1684146001899,
     "user": {
      "displayName": "Clarice Lau",
      "userId": "09231424434464769679"
     },
     "user_tz": -480
    },
    "id": "-KIph48tZPnT",
    "outputId": "2a5a49db-cd4f-4bf8-8aa9-4784b4046fca"
   },
   "outputs": [
    {
     "data": {
      "text/html": [
       "<div>\n",
       "<style scoped>\n",
       "    .dataframe tbody tr th:only-of-type {\n",
       "        vertical-align: middle;\n",
       "    }\n",
       "\n",
       "    .dataframe tbody tr th {\n",
       "        vertical-align: top;\n",
       "    }\n",
       "\n",
       "    .dataframe thead th {\n",
       "        text-align: right;\n",
       "    }\n",
       "</style>\n",
       "<table border=\"1\" class=\"dataframe\">\n",
       "  <thead>\n",
       "    <tr style=\"text-align: right;\">\n",
       "      <th></th>\n",
       "      <th>gender</th>\n",
       "      <th>age</th>\n",
       "      <th>hypertension</th>\n",
       "      <th>heart_disease</th>\n",
       "      <th>ever_married</th>\n",
       "      <th>work_type</th>\n",
       "      <th>Residence_type</th>\n",
       "      <th>avg_glucose_level</th>\n",
       "      <th>bmi</th>\n",
       "      <th>smoking_status</th>\n",
       "      <th>stroke</th>\n",
       "    </tr>\n",
       "    <tr>\n",
       "      <th>id</th>\n",
       "      <th></th>\n",
       "      <th></th>\n",
       "      <th></th>\n",
       "      <th></th>\n",
       "      <th></th>\n",
       "      <th></th>\n",
       "      <th></th>\n",
       "      <th></th>\n",
       "      <th></th>\n",
       "      <th></th>\n",
       "      <th></th>\n",
       "    </tr>\n",
       "  </thead>\n",
       "  <tbody>\n",
       "    <tr>\n",
       "      <th>67</th>\n",
       "      <td>Female</td>\n",
       "      <td>17.0</td>\n",
       "      <td>0</td>\n",
       "      <td>0</td>\n",
       "      <td>No</td>\n",
       "      <td>Private</td>\n",
       "      <td>Urban</td>\n",
       "      <td>92.97</td>\n",
       "      <td>NaN</td>\n",
       "      <td>formerly smoked</td>\n",
       "      <td>0</td>\n",
       "    </tr>\n",
       "    <tr>\n",
       "      <th>77</th>\n",
       "      <td>Female</td>\n",
       "      <td>13.0</td>\n",
       "      <td>0</td>\n",
       "      <td>0</td>\n",
       "      <td>No</td>\n",
       "      <td>children</td>\n",
       "      <td>Rural</td>\n",
       "      <td>85.81</td>\n",
       "      <td>18.6</td>\n",
       "      <td>Unknown</td>\n",
       "      <td>0</td>\n",
       "    </tr>\n",
       "    <tr>\n",
       "      <th>84</th>\n",
       "      <td>Male</td>\n",
       "      <td>55.0</td>\n",
       "      <td>0</td>\n",
       "      <td>0</td>\n",
       "      <td>Yes</td>\n",
       "      <td>Private</td>\n",
       "      <td>Urban</td>\n",
       "      <td>89.17</td>\n",
       "      <td>31.5</td>\n",
       "      <td>never smoked</td>\n",
       "      <td>0</td>\n",
       "    </tr>\n",
       "    <tr>\n",
       "      <th>91</th>\n",
       "      <td>Female</td>\n",
       "      <td>42.0</td>\n",
       "      <td>0</td>\n",
       "      <td>0</td>\n",
       "      <td>No</td>\n",
       "      <td>Private</td>\n",
       "      <td>Urban</td>\n",
       "      <td>98.53</td>\n",
       "      <td>18.5</td>\n",
       "      <td>never smoked</td>\n",
       "      <td>0</td>\n",
       "    </tr>\n",
       "    <tr>\n",
       "      <th>99</th>\n",
       "      <td>Female</td>\n",
       "      <td>31.0</td>\n",
       "      <td>0</td>\n",
       "      <td>0</td>\n",
       "      <td>No</td>\n",
       "      <td>Private</td>\n",
       "      <td>Urban</td>\n",
       "      <td>108.89</td>\n",
       "      <td>52.3</td>\n",
       "      <td>Unknown</td>\n",
       "      <td>0</td>\n",
       "    </tr>\n",
       "    <tr>\n",
       "      <th>121</th>\n",
       "      <td>Female</td>\n",
       "      <td>38.0</td>\n",
       "      <td>0</td>\n",
       "      <td>0</td>\n",
       "      <td>Yes</td>\n",
       "      <td>Private</td>\n",
       "      <td>Urban</td>\n",
       "      <td>91.44</td>\n",
       "      <td>NaN</td>\n",
       "      <td>Unknown</td>\n",
       "      <td>0</td>\n",
       "    </tr>\n",
       "    <tr>\n",
       "      <th>129</th>\n",
       "      <td>Female</td>\n",
       "      <td>24.0</td>\n",
       "      <td>0</td>\n",
       "      <td>0</td>\n",
       "      <td>No</td>\n",
       "      <td>Private</td>\n",
       "      <td>Urban</td>\n",
       "      <td>97.55</td>\n",
       "      <td>26.2</td>\n",
       "      <td>never smoked</td>\n",
       "      <td>0</td>\n",
       "    </tr>\n",
       "    <tr>\n",
       "      <th>132</th>\n",
       "      <td>Female</td>\n",
       "      <td>80.0</td>\n",
       "      <td>0</td>\n",
       "      <td>0</td>\n",
       "      <td>Yes</td>\n",
       "      <td>Govt_job</td>\n",
       "      <td>Urban</td>\n",
       "      <td>84.86</td>\n",
       "      <td>NaN</td>\n",
       "      <td>Unknown</td>\n",
       "      <td>0</td>\n",
       "    </tr>\n",
       "    <tr>\n",
       "      <th>156</th>\n",
       "      <td>Female</td>\n",
       "      <td>33.0</td>\n",
       "      <td>0</td>\n",
       "      <td>0</td>\n",
       "      <td>Yes</td>\n",
       "      <td>Private</td>\n",
       "      <td>Rural</td>\n",
       "      <td>86.97</td>\n",
       "      <td>42.2</td>\n",
       "      <td>never smoked</td>\n",
       "      <td>0</td>\n",
       "    </tr>\n",
       "    <tr>\n",
       "      <th>163</th>\n",
       "      <td>Female</td>\n",
       "      <td>20.0</td>\n",
       "      <td>0</td>\n",
       "      <td>0</td>\n",
       "      <td>No</td>\n",
       "      <td>Private</td>\n",
       "      <td>Rural</td>\n",
       "      <td>94.67</td>\n",
       "      <td>28.8</td>\n",
       "      <td>Unknown</td>\n",
       "      <td>0</td>\n",
       "    </tr>\n",
       "    <tr>\n",
       "      <th>170</th>\n",
       "      <td>Male</td>\n",
       "      <td>43.0</td>\n",
       "      <td>0</td>\n",
       "      <td>0</td>\n",
       "      <td>Yes</td>\n",
       "      <td>Govt_job</td>\n",
       "      <td>Rural</td>\n",
       "      <td>80.07</td>\n",
       "      <td>NaN</td>\n",
       "      <td>never smoked</td>\n",
       "      <td>0</td>\n",
       "    </tr>\n",
       "    <tr>\n",
       "      <th>172</th>\n",
       "      <td>Male</td>\n",
       "      <td>8.0</td>\n",
       "      <td>0</td>\n",
       "      <td>0</td>\n",
       "      <td>No</td>\n",
       "      <td>children</td>\n",
       "      <td>Urban</td>\n",
       "      <td>78.76</td>\n",
       "      <td>NaN</td>\n",
       "      <td>Unknown</td>\n",
       "      <td>0</td>\n",
       "    </tr>\n",
       "    <tr>\n",
       "      <th>187</th>\n",
       "      <td>Female</td>\n",
       "      <td>20.0</td>\n",
       "      <td>0</td>\n",
       "      <td>0</td>\n",
       "      <td>No</td>\n",
       "      <td>Private</td>\n",
       "      <td>Rural</td>\n",
       "      <td>84.07</td>\n",
       "      <td>27.6</td>\n",
       "      <td>smokes</td>\n",
       "      <td>0</td>\n",
       "    </tr>\n",
       "    <tr>\n",
       "      <th>205</th>\n",
       "      <td>Female</td>\n",
       "      <td>43.0</td>\n",
       "      <td>0</td>\n",
       "      <td>0</td>\n",
       "      <td>Yes</td>\n",
       "      <td>Private</td>\n",
       "      <td>Rural</td>\n",
       "      <td>88.23</td>\n",
       "      <td>37.6</td>\n",
       "      <td>Unknown</td>\n",
       "      <td>0</td>\n",
       "    </tr>\n",
       "    <tr>\n",
       "      <th>210</th>\n",
       "      <td>Male</td>\n",
       "      <td>81.0</td>\n",
       "      <td>0</td>\n",
       "      <td>0</td>\n",
       "      <td>Yes</td>\n",
       "      <td>Self-employed</td>\n",
       "      <td>Rural</td>\n",
       "      <td>91.54</td>\n",
       "      <td>31.4</td>\n",
       "      <td>never smoked</td>\n",
       "      <td>1</td>\n",
       "    </tr>\n",
       "    <tr>\n",
       "      <th>224</th>\n",
       "      <td>Female</td>\n",
       "      <td>23.0</td>\n",
       "      <td>0</td>\n",
       "      <td>0</td>\n",
       "      <td>No</td>\n",
       "      <td>Private</td>\n",
       "      <td>Urban</td>\n",
       "      <td>110.16</td>\n",
       "      <td>NaN</td>\n",
       "      <td>never smoked</td>\n",
       "      <td>0</td>\n",
       "    </tr>\n",
       "    <tr>\n",
       "      <th>239</th>\n",
       "      <td>Male</td>\n",
       "      <td>59.0</td>\n",
       "      <td>1</td>\n",
       "      <td>1</td>\n",
       "      <td>Yes</td>\n",
       "      <td>Private</td>\n",
       "      <td>Rural</td>\n",
       "      <td>246.53</td>\n",
       "      <td>27.2</td>\n",
       "      <td>formerly smoked</td>\n",
       "      <td>0</td>\n",
       "    </tr>\n",
       "    <tr>\n",
       "      <th>242</th>\n",
       "      <td>Male</td>\n",
       "      <td>4.0</td>\n",
       "      <td>0</td>\n",
       "      <td>0</td>\n",
       "      <td>No</td>\n",
       "      <td>children</td>\n",
       "      <td>Urban</td>\n",
       "      <td>98.56</td>\n",
       "      <td>17.5</td>\n",
       "      <td>Unknown</td>\n",
       "      <td>0</td>\n",
       "    </tr>\n",
       "    <tr>\n",
       "      <th>247</th>\n",
       "      <td>Male</td>\n",
       "      <td>31.0</td>\n",
       "      <td>0</td>\n",
       "      <td>0</td>\n",
       "      <td>No</td>\n",
       "      <td>Private</td>\n",
       "      <td>Urban</td>\n",
       "      <td>72.60</td>\n",
       "      <td>31.6</td>\n",
       "      <td>never smoked</td>\n",
       "      <td>0</td>\n",
       "    </tr>\n",
       "    <tr>\n",
       "      <th>259</th>\n",
       "      <td>Male</td>\n",
       "      <td>79.0</td>\n",
       "      <td>0</td>\n",
       "      <td>0</td>\n",
       "      <td>Yes</td>\n",
       "      <td>Private</td>\n",
       "      <td>Urban</td>\n",
       "      <td>198.79</td>\n",
       "      <td>24.9</td>\n",
       "      <td>never smoked</td>\n",
       "      <td>0</td>\n",
       "    </tr>\n",
       "  </tbody>\n",
       "</table>\n",
       "</div>"
      ],
      "text/plain": [
       "     gender   age  hypertension  heart_disease ever_married      work_type  \\\n",
       "id                                                                           \n",
       "67   Female  17.0             0              0           No        Private   \n",
       "77   Female  13.0             0              0           No       children   \n",
       "84     Male  55.0             0              0          Yes        Private   \n",
       "91   Female  42.0             0              0           No        Private   \n",
       "99   Female  31.0             0              0           No        Private   \n",
       "121  Female  38.0             0              0          Yes        Private   \n",
       "129  Female  24.0             0              0           No        Private   \n",
       "132  Female  80.0             0              0          Yes       Govt_job   \n",
       "156  Female  33.0             0              0          Yes        Private   \n",
       "163  Female  20.0             0              0           No        Private   \n",
       "170    Male  43.0             0              0          Yes       Govt_job   \n",
       "172    Male   8.0             0              0           No       children   \n",
       "187  Female  20.0             0              0           No        Private   \n",
       "205  Female  43.0             0              0          Yes        Private   \n",
       "210    Male  81.0             0              0          Yes  Self-employed   \n",
       "224  Female  23.0             0              0           No        Private   \n",
       "239    Male  59.0             1              1          Yes        Private   \n",
       "242    Male   4.0             0              0           No       children   \n",
       "247    Male  31.0             0              0           No        Private   \n",
       "259    Male  79.0             0              0          Yes        Private   \n",
       "\n",
       "    Residence_type  avg_glucose_level   bmi   smoking_status  stroke  \n",
       "id                                                                    \n",
       "67           Urban              92.97   NaN  formerly smoked       0  \n",
       "77           Rural              85.81  18.6          Unknown       0  \n",
       "84           Urban              89.17  31.5     never smoked       0  \n",
       "91           Urban              98.53  18.5     never smoked       0  \n",
       "99           Urban             108.89  52.3          Unknown       0  \n",
       "121          Urban              91.44   NaN          Unknown       0  \n",
       "129          Urban              97.55  26.2     never smoked       0  \n",
       "132          Urban              84.86   NaN          Unknown       0  \n",
       "156          Rural              86.97  42.2     never smoked       0  \n",
       "163          Rural              94.67  28.8          Unknown       0  \n",
       "170          Rural              80.07   NaN     never smoked       0  \n",
       "172          Urban              78.76   NaN          Unknown       0  \n",
       "187          Rural              84.07  27.6           smokes       0  \n",
       "205          Rural              88.23  37.6          Unknown       0  \n",
       "210          Rural              91.54  31.4     never smoked       1  \n",
       "224          Urban             110.16   NaN     never smoked       0  \n",
       "239          Rural             246.53  27.2  formerly smoked       0  \n",
       "242          Urban              98.56  17.5          Unknown       0  \n",
       "247          Urban              72.60  31.6     never smoked       0  \n",
       "259          Urban             198.79  24.9     never smoked       0  "
      ]
     },
     "execution_count": 6,
     "metadata": {},
     "output_type": "execute_result"
    }
   ],
   "source": [
    "data.head(20)"
   ]
  },
  {
   "cell_type": "markdown",
   "metadata": {
    "id": "pCurU8mih_qS"
   },
   "source": [
    "## Handling outliers/missing data"
   ]
  },
  {
   "cell_type": "markdown",
   "metadata": {
    "id": "blTogHnvoGGP"
   },
   "source": [
    "### Removing Outliers & Irrelevant Data"
   ]
  },
  {
   "cell_type": "code",
   "execution_count": 7,
   "metadata": {
    "colab": {
     "base_uri": "https://localhost:8080/",
     "height": 300
    },
    "executionInfo": {
     "elapsed": 366,
     "status": "ok",
     "timestamp": 1684264729587,
     "user": {
      "displayName": "Clarice Lau",
      "userId": "09231424434464769679"
     },
     "user_tz": -480
    },
    "id": "osVzxytmcPLP",
    "outputId": "056bf1e5-9005-4b38-86b9-5529a81dca14"
   },
   "outputs": [
    {
     "data": {
      "text/html": [
       "<div>\n",
       "<style scoped>\n",
       "    .dataframe tbody tr th:only-of-type {\n",
       "        vertical-align: middle;\n",
       "    }\n",
       "\n",
       "    .dataframe tbody tr th {\n",
       "        vertical-align: top;\n",
       "    }\n",
       "\n",
       "    .dataframe thead th {\n",
       "        text-align: right;\n",
       "    }\n",
       "</style>\n",
       "<table border=\"1\" class=\"dataframe\">\n",
       "  <thead>\n",
       "    <tr style=\"text-align: right;\">\n",
       "      <th></th>\n",
       "      <th>age</th>\n",
       "      <th>hypertension</th>\n",
       "      <th>heart_disease</th>\n",
       "      <th>avg_glucose_level</th>\n",
       "      <th>bmi</th>\n",
       "      <th>stroke</th>\n",
       "    </tr>\n",
       "  </thead>\n",
       "  <tbody>\n",
       "    <tr>\n",
       "      <th>count</th>\n",
       "      <td>5110.000000</td>\n",
       "      <td>5110.000000</td>\n",
       "      <td>5110.000000</td>\n",
       "      <td>5110.000000</td>\n",
       "      <td>4909.000000</td>\n",
       "      <td>5110.000000</td>\n",
       "    </tr>\n",
       "    <tr>\n",
       "      <th>mean</th>\n",
       "      <td>43.226614</td>\n",
       "      <td>0.097456</td>\n",
       "      <td>0.054012</td>\n",
       "      <td>106.147677</td>\n",
       "      <td>28.893237</td>\n",
       "      <td>0.048728</td>\n",
       "    </tr>\n",
       "    <tr>\n",
       "      <th>std</th>\n",
       "      <td>22.612647</td>\n",
       "      <td>0.296607</td>\n",
       "      <td>0.226063</td>\n",
       "      <td>45.283560</td>\n",
       "      <td>7.854067</td>\n",
       "      <td>0.215320</td>\n",
       "    </tr>\n",
       "    <tr>\n",
       "      <th>min</th>\n",
       "      <td>0.080000</td>\n",
       "      <td>0.000000</td>\n",
       "      <td>0.000000</td>\n",
       "      <td>55.120000</td>\n",
       "      <td>10.300000</td>\n",
       "      <td>0.000000</td>\n",
       "    </tr>\n",
       "    <tr>\n",
       "      <th>25%</th>\n",
       "      <td>25.000000</td>\n",
       "      <td>0.000000</td>\n",
       "      <td>0.000000</td>\n",
       "      <td>77.245000</td>\n",
       "      <td>23.500000</td>\n",
       "      <td>0.000000</td>\n",
       "    </tr>\n",
       "    <tr>\n",
       "      <th>50%</th>\n",
       "      <td>45.000000</td>\n",
       "      <td>0.000000</td>\n",
       "      <td>0.000000</td>\n",
       "      <td>91.885000</td>\n",
       "      <td>28.100000</td>\n",
       "      <td>0.000000</td>\n",
       "    </tr>\n",
       "    <tr>\n",
       "      <th>75%</th>\n",
       "      <td>61.000000</td>\n",
       "      <td>0.000000</td>\n",
       "      <td>0.000000</td>\n",
       "      <td>114.090000</td>\n",
       "      <td>33.100000</td>\n",
       "      <td>0.000000</td>\n",
       "    </tr>\n",
       "    <tr>\n",
       "      <th>max</th>\n",
       "      <td>82.000000</td>\n",
       "      <td>1.000000</td>\n",
       "      <td>1.000000</td>\n",
       "      <td>271.740000</td>\n",
       "      <td>97.600000</td>\n",
       "      <td>1.000000</td>\n",
       "    </tr>\n",
       "  </tbody>\n",
       "</table>\n",
       "</div>"
      ],
      "text/plain": [
       "               age  hypertension  heart_disease  avg_glucose_level  \\\n",
       "count  5110.000000   5110.000000    5110.000000        5110.000000   \n",
       "mean     43.226614      0.097456       0.054012         106.147677   \n",
       "std      22.612647      0.296607       0.226063          45.283560   \n",
       "min       0.080000      0.000000       0.000000          55.120000   \n",
       "25%      25.000000      0.000000       0.000000          77.245000   \n",
       "50%      45.000000      0.000000       0.000000          91.885000   \n",
       "75%      61.000000      0.000000       0.000000         114.090000   \n",
       "max      82.000000      1.000000       1.000000         271.740000   \n",
       "\n",
       "               bmi       stroke  \n",
       "count  4909.000000  5110.000000  \n",
       "mean     28.893237     0.048728  \n",
       "std       7.854067     0.215320  \n",
       "min      10.300000     0.000000  \n",
       "25%      23.500000     0.000000  \n",
       "50%      28.100000     0.000000  \n",
       "75%      33.100000     0.000000  \n",
       "max      97.600000     1.000000  "
      ]
     },
     "execution_count": 7,
     "metadata": {},
     "output_type": "execute_result"
    }
   ],
   "source": [
    "data.describe()"
   ]
  },
  {
   "cell_type": "code",
   "execution_count": 8,
   "metadata": {
    "colab": {
     "base_uri": "https://localhost:8080/",
     "height": 447
    },
    "executionInfo": {
     "elapsed": 10,
     "status": "ok",
     "timestamp": 1684264733136,
     "user": {
      "displayName": "Clarice Lau",
      "userId": "09231424434464769679"
     },
     "user_tz": -480
    },
    "id": "jUXlX-TJiJrX",
    "outputId": "b5712d29-df46-4eb2-c771-a29352723361"
   },
   "outputs": [
    {
     "data": {
      "text/plain": [
       "<Axes: >"
      ]
     },
     "execution_count": 8,
     "metadata": {},
     "output_type": "execute_result"
    },
    {
     "data": {
      "image/png": "[encoded data removed]",
      "text/plain": [
       "<Figure size 640x480 with 1 Axes>"
      ]
     },
     "metadata": {},
     "output_type": "display_data"
    }
   ],
   "source": [
    "data.boxplot(column=[\"age\",\"avg_glucose_level\",\"bmi\"])"
   ]
  },
  {
   "cell_type": "code",
   "execution_count": 9,
   "metadata": {
    "colab": {
     "base_uri": "https://localhost:8080/",
     "height": 300
    },
    "executionInfo": {
     "elapsed": 11,
     "status": "ok",
     "timestamp": 1684264738106,
     "user": {
      "displayName": "Clarice Lau",
      "userId": "09231424434464769679"
     },
     "user_tz": -480
    },
    "id": "2YsgZTZ7iOTt",
    "outputId": "d74a2338-63e4-446f-ee6e-b782889c11b8"
   },
   "outputs": [
    {
     "data": {
      "text/html": [
       "<div>\n",
       "<style scoped>\n",
       "    .dataframe tbody tr th:only-of-type {\n",
       "        vertical-align: middle;\n",
       "    }\n",
       "\n",
       "    .dataframe tbody tr th {\n",
       "        vertical-align: top;\n",
       "    }\n",
       "\n",
       "    .dataframe thead th {\n",
       "        text-align: right;\n",
       "    }\n",
       "</style>\n",
       "<table border=\"1\" class=\"dataframe\">\n",
       "  <thead>\n",
       "    <tr style=\"text-align: right;\">\n",
       "      <th></th>\n",
       "      <th>age</th>\n",
       "      <th>hypertension</th>\n",
       "      <th>heart_disease</th>\n",
       "      <th>avg_glucose_level</th>\n",
       "      <th>bmi</th>\n",
       "      <th>stroke</th>\n",
       "    </tr>\n",
       "  </thead>\n",
       "  <tbody>\n",
       "    <tr>\n",
       "      <th>count</th>\n",
       "      <td>4976.000000</td>\n",
       "      <td>4976.00000</td>\n",
       "      <td>4976.000000</td>\n",
       "      <td>4976.000000</td>\n",
       "      <td>4779.000000</td>\n",
       "      <td>4976.000000</td>\n",
       "    </tr>\n",
       "    <tr>\n",
       "      <th>mean</th>\n",
       "      <td>42.946141</td>\n",
       "      <td>0.09365</td>\n",
       "      <td>0.053055</td>\n",
       "      <td>104.296881</td>\n",
       "      <td>28.409605</td>\n",
       "      <td>0.047629</td>\n",
       "    </tr>\n",
       "    <tr>\n",
       "      <th>std</th>\n",
       "      <td>22.696149</td>\n",
       "      <td>0.29137</td>\n",
       "      <td>0.224165</td>\n",
       "      <td>42.562051</td>\n",
       "      <td>7.007670</td>\n",
       "      <td>0.213001</td>\n",
       "    </tr>\n",
       "    <tr>\n",
       "      <th>min</th>\n",
       "      <td>0.080000</td>\n",
       "      <td>0.00000</td>\n",
       "      <td>0.000000</td>\n",
       "      <td>55.120000</td>\n",
       "      <td>10.300000</td>\n",
       "      <td>0.000000</td>\n",
       "    </tr>\n",
       "    <tr>\n",
       "      <th>25%</th>\n",
       "      <td>25.000000</td>\n",
       "      <td>0.00000</td>\n",
       "      <td>0.000000</td>\n",
       "      <td>77.055000</td>\n",
       "      <td>23.400000</td>\n",
       "      <td>0.000000</td>\n",
       "    </tr>\n",
       "    <tr>\n",
       "      <th>50%</th>\n",
       "      <td>44.000000</td>\n",
       "      <td>0.00000</td>\n",
       "      <td>0.000000</td>\n",
       "      <td>91.530000</td>\n",
       "      <td>27.900000</td>\n",
       "      <td>0.000000</td>\n",
       "    </tr>\n",
       "    <tr>\n",
       "      <th>75%</th>\n",
       "      <td>61.000000</td>\n",
       "      <td>0.00000</td>\n",
       "      <td>0.000000</td>\n",
       "      <td>112.800000</td>\n",
       "      <td>32.700000</td>\n",
       "      <td>0.000000</td>\n",
       "    </tr>\n",
       "    <tr>\n",
       "      <th>max</th>\n",
       "      <td>82.000000</td>\n",
       "      <td>1.00000</td>\n",
       "      <td>1.000000</td>\n",
       "      <td>239.950000</td>\n",
       "      <td>49.900000</td>\n",
       "      <td>1.000000</td>\n",
       "    </tr>\n",
       "  </tbody>\n",
       "</table>\n",
       "</div>"
      ],
      "text/plain": [
       "               age  hypertension  heart_disease  avg_glucose_level  \\\n",
       "count  4976.000000    4976.00000    4976.000000        4976.000000   \n",
       "mean     42.946141       0.09365       0.053055         104.296881   \n",
       "std      22.696149       0.29137       0.224165          42.562051   \n",
       "min       0.080000       0.00000       0.000000          55.120000   \n",
       "25%      25.000000       0.00000       0.000000          77.055000   \n",
       "50%      44.000000       0.00000       0.000000          91.530000   \n",
       "75%      61.000000       0.00000       0.000000         112.800000   \n",
       "max      82.000000       1.00000       1.000000         239.950000   \n",
       "\n",
       "               bmi       stroke  \n",
       "count  4779.000000  4976.000000  \n",
       "mean     28.409605     0.047629  \n",
       "std       7.007670     0.213001  \n",
       "min      10.300000     0.000000  \n",
       "25%      23.400000     0.000000  \n",
       "50%      27.900000     0.000000  \n",
       "75%      32.700000     0.000000  \n",
       "max      49.900000     1.000000  "
      ]
     },
     "execution_count": 9,
     "metadata": {},
     "output_type": "execute_result"
    }
   ],
   "source": [
    "outliers = data[(data['avg_glucose_level'] >= 240.0) | (data['bmi'] >= 50)].index\n",
    "data.drop(outliers, inplace=True)\n",
    "data.head(15)\n",
    "\n",
    "data.describe()"
   ]
  },
  {
   "cell_type": "markdown",
   "metadata": {
    "id": "2NYN2gItn-5R"
   },
   "source": [
    "- WHO considered a normal blood glucose level (mg/dl) of between 70-140 and anything above 140 is considered pre diabetic and around 180-220 is considered diabetic. The cutoff point is set at 240 mg/dl\n",
    "- Anything above 40 in BMI is considereed clinically obese, hence cutoff point at 50 should be logical"
   ]
  },
  {
   "cell_type": "code",
   "execution_count": 10,
   "metadata": {
    "id": "6fnUOyRuog6M"
   },
   "outputs": [],
   "source": [
    "irr_data = data[(data['gender']==\"Other\")].index\n",
    "data.drop(irr_data, inplace=True)"
   ]
  },
  {
   "cell_type": "markdown",
   "metadata": {
    "id": "QHuM8NgktLWT"
   },
   "source": [
    "- For consistency, we remove the \"Other\" in gender as well"
   ]
  },
  {
   "cell_type": "markdown",
   "metadata": {
    "id": "7zDNn-RNtvzI"
   },
   "source": [
    "### Missing Data Imputation"
   ]
  },
  {
   "cell_type": "markdown",
   "metadata": {
    "id": "CBYH4Rh9t_HU"
   },
   "source": [
    "Since we have removed the outliers and irrelevant data, we can safely impute the missing values using mean imputation"
   ]
  },
  {
   "cell_type": "code",
   "execution_count": 11,
   "metadata": {
    "colab": {
     "base_uri": "https://localhost:8080/"
    },
    "executionInfo": {
     "elapsed": 9,
     "status": "ok",
     "timestamp": 1684264744831,
     "user": {
      "displayName": "Clarice Lau",
      "userId": "09231424434464769679"
     },
     "user_tz": -480
    },
    "id": "F1pxZoIZt9NL",
    "outputId": "519fb2e9-670a-4abb-a9e2-0ee41877c1f7"
   },
   "outputs": [
    {
     "data": {
      "text/plain": [
       "gender                 0\n",
       "age                    0\n",
       "hypertension           0\n",
       "heart_disease          0\n",
       "ever_married           0\n",
       "work_type              0\n",
       "Residence_type         0\n",
       "avg_glucose_level      0\n",
       "bmi                  197\n",
       "smoking_status         0\n",
       "stroke                 0\n",
       "dtype: int64"
      ]
     },
     "execution_count": 11,
     "metadata": {},
     "output_type": "execute_result"
    }
   ],
   "source": [
    "data.isna().sum()"
   ]
  },
  {
   "cell_type": "code",
   "execution_count": 12,
   "metadata": {
    "colab": {
     "base_uri": "https://localhost:8080/"
    },
    "executionInfo": {
     "elapsed": 10,
     "status": "ok",
     "timestamp": 1684264748453,
     "user": {
      "displayName": "Clarice Lau",
      "userId": "09231424434464769679"
     },
     "user_tz": -480
    },
    "id": "PrkOmrbPuZCb",
    "outputId": "10c51fff-97c8-4548-d41b-91e969ffaa7e"
   },
   "outputs": [
    {
     "name": "stderr",
     "output_type": "stream",
     "text": [
      "C:\\Users\\peili\\AppData\\Local\\Temp\\ipykernel_18588\\2546835203.py:1: FutureWarning: The default value of numeric_only in DataFrame.mean is deprecated. In a future version, it will default to False. In addition, specifying 'numeric_only=None' is deprecated. Select only valid columns or specify the value of numeric_only to silence this warning.\n",
      "  data.fillna(data.mean())\n",
      "C:\\Users\\peili\\AppData\\Local\\Temp\\ipykernel_18588\\2546835203.py:2: FutureWarning: The default value of numeric_only in DataFrame.mean is deprecated. In a future version, it will default to False. In addition, specifying 'numeric_only=None' is deprecated. Select only valid columns or specify the value of numeric_only to silence this warning.\n",
      "  data = data.fillna(data.mean())\n"
     ]
    }
   ],
   "source": [
    "data.fillna(data.mean())\n",
    "data = data.fillna(data.mean())"
   ]
  },
  {
   "cell_type": "code",
   "execution_count": 13,
   "metadata": {
    "colab": {
     "base_uri": "https://localhost:8080/",
     "height": 300
    },
    "executionInfo": {
     "elapsed": 563,
     "status": "ok",
     "timestamp": 1684146020101,
     "user": {
      "displayName": "Clarice Lau",
      "userId": "09231424434464769679"
     },
     "user_tz": -480
    },
    "id": "gwKMf34yu0cY",
    "outputId": "7ad047a4-dada-4d4d-f269-048e29700d0d"
   },
   "outputs": [
    {
     "data": {
      "text/html": [
       "<div>\n",
       "<style scoped>\n",
       "    .dataframe tbody tr th:only-of-type {\n",
       "        vertical-align: middle;\n",
       "    }\n",
       "\n",
       "    .dataframe tbody tr th {\n",
       "        vertical-align: top;\n",
       "    }\n",
       "\n",
       "    .dataframe thead th {\n",
       "        text-align: right;\n",
       "    }\n",
       "</style>\n",
       "<table border=\"1\" class=\"dataframe\">\n",
       "  <thead>\n",
       "    <tr style=\"text-align: right;\">\n",
       "      <th></th>\n",
       "      <th>age</th>\n",
       "      <th>hypertension</th>\n",
       "      <th>heart_disease</th>\n",
       "      <th>avg_glucose_level</th>\n",
       "      <th>bmi</th>\n",
       "      <th>stroke</th>\n",
       "    </tr>\n",
       "  </thead>\n",
       "  <tbody>\n",
       "    <tr>\n",
       "      <th>count</th>\n",
       "      <td>4975.000000</td>\n",
       "      <td>4975.000000</td>\n",
       "      <td>4975.000000</td>\n",
       "      <td>4975.000000</td>\n",
       "      <td>4975.000000</td>\n",
       "      <td>4975.000000</td>\n",
       "    </tr>\n",
       "    <tr>\n",
       "      <th>mean</th>\n",
       "      <td>42.949548</td>\n",
       "      <td>0.093668</td>\n",
       "      <td>0.053065</td>\n",
       "      <td>104.289035</td>\n",
       "      <td>28.410862</td>\n",
       "      <td>0.047638</td>\n",
       "    </tr>\n",
       "    <tr>\n",
       "      <th>std</th>\n",
       "      <td>22.697159</td>\n",
       "      <td>0.291396</td>\n",
       "      <td>0.224186</td>\n",
       "      <td>42.562731</td>\n",
       "      <td>6.867685</td>\n",
       "      <td>0.213021</td>\n",
       "    </tr>\n",
       "    <tr>\n",
       "      <th>min</th>\n",
       "      <td>0.080000</td>\n",
       "      <td>0.000000</td>\n",
       "      <td>0.000000</td>\n",
       "      <td>55.120000</td>\n",
       "      <td>10.300000</td>\n",
       "      <td>0.000000</td>\n",
       "    </tr>\n",
       "    <tr>\n",
       "      <th>25%</th>\n",
       "      <td>25.000000</td>\n",
       "      <td>0.000000</td>\n",
       "      <td>0.000000</td>\n",
       "      <td>77.050000</td>\n",
       "      <td>23.600000</td>\n",
       "      <td>0.000000</td>\n",
       "    </tr>\n",
       "    <tr>\n",
       "      <th>50%</th>\n",
       "      <td>44.000000</td>\n",
       "      <td>0.000000</td>\n",
       "      <td>0.000000</td>\n",
       "      <td>91.530000</td>\n",
       "      <td>28.200000</td>\n",
       "      <td>0.000000</td>\n",
       "    </tr>\n",
       "    <tr>\n",
       "      <th>75%</th>\n",
       "      <td>61.000000</td>\n",
       "      <td>0.000000</td>\n",
       "      <td>0.000000</td>\n",
       "      <td>112.780000</td>\n",
       "      <td>32.500000</td>\n",
       "      <td>0.000000</td>\n",
       "    </tr>\n",
       "    <tr>\n",
       "      <th>max</th>\n",
       "      <td>82.000000</td>\n",
       "      <td>1.000000</td>\n",
       "      <td>1.000000</td>\n",
       "      <td>239.950000</td>\n",
       "      <td>49.900000</td>\n",
       "      <td>1.000000</td>\n",
       "    </tr>\n",
       "  </tbody>\n",
       "</table>\n",
       "</div>"
      ],
      "text/plain": [
       "               age  hypertension  heart_disease  avg_glucose_level  \\\n",
       "count  4975.000000   4975.000000    4975.000000        4975.000000   \n",
       "mean     42.949548      0.093668       0.053065         104.289035   \n",
       "std      22.697159      0.291396       0.224186          42.562731   \n",
       "min       0.080000      0.000000       0.000000          55.120000   \n",
       "25%      25.000000      0.000000       0.000000          77.050000   \n",
       "50%      44.000000      0.000000       0.000000          91.530000   \n",
       "75%      61.000000      0.000000       0.000000         112.780000   \n",
       "max      82.000000      1.000000       1.000000         239.950000   \n",
       "\n",
       "               bmi       stroke  \n",
       "count  4975.000000  4975.000000  \n",
       "mean     28.410862     0.047638  \n",
       "std       6.867685     0.213021  \n",
       "min      10.300000     0.000000  \n",
       "25%      23.600000     0.000000  \n",
       "50%      28.200000     0.000000  \n",
       "75%      32.500000     0.000000  \n",
       "max      49.900000     1.000000  "
      ]
     },
     "execution_count": 13,
     "metadata": {},
     "output_type": "execute_result"
    }
   ],
   "source": [
    "data.describe()"
   ]
  },
  {
   "cell_type": "markdown",
   "metadata": {
    "id": "Nny5UtoJwDIT"
   },
   "source": [
    "###Rearranging index"
   ]
  },
  {
   "cell_type": "code",
   "execution_count": 14,
   "metadata": {
    "colab": {
     "base_uri": "https://localhost:8080/",
     "height": 206
    },
    "executionInfo": {
     "elapsed": 334,
     "status": "ok",
     "timestamp": 1684264754140,
     "user": {
      "displayName": "Clarice Lau",
      "userId": "09231424434464769679"
     },
     "user_tz": -480
    },
    "id": "GZUTew5UwJDz",
    "outputId": "0f5572c7-50f1-4107-c41a-f24080cfdb66"
   },
   "outputs": [
    {
     "data": {
      "text/html": [
       "<div>\n",
       "<style scoped>\n",
       "    .dataframe tbody tr th:only-of-type {\n",
       "        vertical-align: middle;\n",
       "    }\n",
       "\n",
       "    .dataframe tbody tr th {\n",
       "        vertical-align: top;\n",
       "    }\n",
       "\n",
       "    .dataframe thead th {\n",
       "        text-align: right;\n",
       "    }\n",
       "</style>\n",
       "<table border=\"1\" class=\"dataframe\">\n",
       "  <thead>\n",
       "    <tr style=\"text-align: right;\">\n",
       "      <th></th>\n",
       "      <th>gender</th>\n",
       "      <th>age</th>\n",
       "      <th>hypertension</th>\n",
       "      <th>heart_disease</th>\n",
       "      <th>ever_married</th>\n",
       "      <th>work_type</th>\n",
       "      <th>Residence_type</th>\n",
       "      <th>avg_glucose_level</th>\n",
       "      <th>bmi</th>\n",
       "      <th>smoking_status</th>\n",
       "      <th>stroke</th>\n",
       "    </tr>\n",
       "  </thead>\n",
       "  <tbody>\n",
       "    <tr>\n",
       "      <th>1</th>\n",
       "      <td>Female</td>\n",
       "      <td>17.0</td>\n",
       "      <td>0</td>\n",
       "      <td>0</td>\n",
       "      <td>No</td>\n",
       "      <td>Private</td>\n",
       "      <td>Urban</td>\n",
       "      <td>92.97</td>\n",
       "      <td>28.410862</td>\n",
       "      <td>formerly smoked</td>\n",
       "      <td>0</td>\n",
       "    </tr>\n",
       "    <tr>\n",
       "      <th>2</th>\n",
       "      <td>Female</td>\n",
       "      <td>13.0</td>\n",
       "      <td>0</td>\n",
       "      <td>0</td>\n",
       "      <td>No</td>\n",
       "      <td>children</td>\n",
       "      <td>Rural</td>\n",
       "      <td>85.81</td>\n",
       "      <td>18.600000</td>\n",
       "      <td>Unknown</td>\n",
       "      <td>0</td>\n",
       "    </tr>\n",
       "    <tr>\n",
       "      <th>3</th>\n",
       "      <td>Male</td>\n",
       "      <td>55.0</td>\n",
       "      <td>0</td>\n",
       "      <td>0</td>\n",
       "      <td>Yes</td>\n",
       "      <td>Private</td>\n",
       "      <td>Urban</td>\n",
       "      <td>89.17</td>\n",
       "      <td>31.500000</td>\n",
       "      <td>never smoked</td>\n",
       "      <td>0</td>\n",
       "    </tr>\n",
       "    <tr>\n",
       "      <th>4</th>\n",
       "      <td>Female</td>\n",
       "      <td>42.0</td>\n",
       "      <td>0</td>\n",
       "      <td>0</td>\n",
       "      <td>No</td>\n",
       "      <td>Private</td>\n",
       "      <td>Urban</td>\n",
       "      <td>98.53</td>\n",
       "      <td>18.500000</td>\n",
       "      <td>never smoked</td>\n",
       "      <td>0</td>\n",
       "    </tr>\n",
       "    <tr>\n",
       "      <th>5</th>\n",
       "      <td>Female</td>\n",
       "      <td>38.0</td>\n",
       "      <td>0</td>\n",
       "      <td>0</td>\n",
       "      <td>Yes</td>\n",
       "      <td>Private</td>\n",
       "      <td>Urban</td>\n",
       "      <td>91.44</td>\n",
       "      <td>28.410862</td>\n",
       "      <td>Unknown</td>\n",
       "      <td>0</td>\n",
       "    </tr>\n",
       "  </tbody>\n",
       "</table>\n",
       "</div>"
      ],
      "text/plain": [
       "   gender   age  hypertension  heart_disease ever_married work_type  \\\n",
       "1  Female  17.0             0              0           No   Private   \n",
       "2  Female  13.0             0              0           No  children   \n",
       "3    Male  55.0             0              0          Yes   Private   \n",
       "4  Female  42.0             0              0           No   Private   \n",
       "5  Female  38.0             0              0          Yes   Private   \n",
       "\n",
       "  Residence_type  avg_glucose_level        bmi   smoking_status  stroke  \n",
       "1          Urban              92.97  28.410862  formerly smoked       0  \n",
       "2          Rural              85.81  18.600000          Unknown       0  \n",
       "3          Urban              89.17  31.500000     never smoked       0  \n",
       "4          Urban              98.53  18.500000     never smoked       0  \n",
       "5          Urban              91.44  28.410862          Unknown       0  "
      ]
     },
     "execution_count": 14,
     "metadata": {},
     "output_type": "execute_result"
    }
   ],
   "source": [
    "cleaned_data = data.reset_index(drop=True)\n",
    "cleaned_data.index = cleaned_data.index + 1\n",
    "\n",
    "cleaned_data.head()"
   ]
  },
  {
   "cell_type": "markdown",
   "metadata": {
    "id": "T5T7UXHtl5Zz"
   },
   "source": [
    "# Exploratory Data Analysis - EDA"
   ]
  },
  {
   "cell_type": "markdown",
   "metadata": {
    "id": "oGUsZ9-OmajW"
   },
   "source": [
    "### Basic Information about data\n",
    "Basic information and descriptive statistic about the data"
   ]
  },
  {
   "cell_type": "code",
   "execution_count": 15,
   "metadata": {
    "colab": {
     "base_uri": "https://localhost:8080/"
    },
    "executionInfo": {
     "elapsed": 341,
     "status": "ok",
     "timestamp": 1684146045507,
     "user": {
      "displayName": "Clarice Lau",
      "userId": "09231424434464769679"
     },
     "user_tz": -480
    },
    "id": "nrgxe9uLmjxj",
    "outputId": "d9d25765-622d-40cd-dd0c-10a9e6474cde"
   },
   "outputs": [
    {
     "name": "stdout",
     "output_type": "stream",
     "text": [
      "<class 'pandas.core.frame.DataFrame'>\n",
      "RangeIndex: 4975 entries, 1 to 4975\n",
      "Data columns (total 11 columns):\n",
      " #   Column             Non-Null Count  Dtype  \n",
      "---  ------             --------------  -----  \n",
      " 0   gender             4975 non-null   object \n",
      " 1   age                4975 non-null   float64\n",
      " 2   hypertension       4975 non-null   int64  \n",
      " 3   heart_disease      4975 non-null   int64  \n",
      " 4   ever_married       4975 non-null   object \n",
      " 5   work_type          4975 non-null   object \n",
      " 6   Residence_type     4975 non-null   object \n",
      " 7   avg_glucose_level  4975 non-null   float64\n",
      " 8   bmi                4975 non-null   float64\n",
      " 9   smoking_status     4975 non-null   object \n",
      " 10  stroke             4975 non-null   int64  \n",
      "dtypes: float64(3), int64(3), object(5)\n",
      "memory usage: 427.7+ KB\n"
     ]
    }
   ],
   "source": [
    "cleaned_data.info()"
   ]
  },
  {
   "cell_type": "code",
   "execution_count": 16,
   "metadata": {
    "colab": {
     "base_uri": "https://localhost:8080/",
     "height": 300
    },
    "executionInfo": {
     "elapsed": 326,
     "status": "ok",
     "timestamp": 1684146049189,
     "user": {
      "displayName": "Clarice Lau",
      "userId": "09231424434464769679"
     },
     "user_tz": -480
    },
    "id": "yCOGbwjzmuGZ",
    "outputId": "b6cfc129-08e0-4658-b23f-c503dc7b532f"
   },
   "outputs": [
    {
     "data": {
      "text/html": [
       "<div>\n",
       "<style scoped>\n",
       "    .dataframe tbody tr th:only-of-type {\n",
       "        vertical-align: middle;\n",
       "    }\n",
       "\n",
       "    .dataframe tbody tr th {\n",
       "        vertical-align: top;\n",
       "    }\n",
       "\n",
       "    .dataframe thead th {\n",
       "        text-align: right;\n",
       "    }\n",
       "</style>\n",
       "<table border=\"1\" class=\"dataframe\">\n",
       "  <thead>\n",
       "    <tr style=\"text-align: right;\">\n",
       "      <th></th>\n",
       "      <th>age</th>\n",
       "      <th>hypertension</th>\n",
       "      <th>heart_disease</th>\n",
       "      <th>avg_glucose_level</th>\n",
       "      <th>bmi</th>\n",
       "      <th>stroke</th>\n",
       "    </tr>\n",
       "  </thead>\n",
       "  <tbody>\n",
       "    <tr>\n",
       "      <th>count</th>\n",
       "      <td>4975.000000</td>\n",
       "      <td>4975.000000</td>\n",
       "      <td>4975.000000</td>\n",
       "      <td>4975.000000</td>\n",
       "      <td>4975.000000</td>\n",
       "      <td>4975.000000</td>\n",
       "    </tr>\n",
       "    <tr>\n",
       "      <th>mean</th>\n",
       "      <td>42.949548</td>\n",
       "      <td>0.093668</td>\n",
       "      <td>0.053065</td>\n",
       "      <td>104.289035</td>\n",
       "      <td>28.410862</td>\n",
       "      <td>0.047638</td>\n",
       "    </tr>\n",
       "    <tr>\n",
       "      <th>std</th>\n",
       "      <td>22.697159</td>\n",
       "      <td>0.291396</td>\n",
       "      <td>0.224186</td>\n",
       "      <td>42.562731</td>\n",
       "      <td>6.867685</td>\n",
       "      <td>0.213021</td>\n",
       "    </tr>\n",
       "    <tr>\n",
       "      <th>min</th>\n",
       "      <td>0.080000</td>\n",
       "      <td>0.000000</td>\n",
       "      <td>0.000000</td>\n",
       "      <td>55.120000</td>\n",
       "      <td>10.300000</td>\n",
       "      <td>0.000000</td>\n",
       "    </tr>\n",
       "    <tr>\n",
       "      <th>25%</th>\n",
       "      <td>25.000000</td>\n",
       "      <td>0.000000</td>\n",
       "      <td>0.000000</td>\n",
       "      <td>77.050000</td>\n",
       "      <td>23.600000</td>\n",
       "      <td>0.000000</td>\n",
       "    </tr>\n",
       "    <tr>\n",
       "      <th>50%</th>\n",
       "      <td>44.000000</td>\n",
       "      <td>0.000000</td>\n",
       "      <td>0.000000</td>\n",
       "      <td>91.530000</td>\n",
       "      <td>28.200000</td>\n",
       "      <td>0.000000</td>\n",
       "    </tr>\n",
       "    <tr>\n",
       "      <th>75%</th>\n",
       "      <td>61.000000</td>\n",
       "      <td>0.000000</td>\n",
       "      <td>0.000000</td>\n",
       "      <td>112.780000</td>\n",
       "      <td>32.500000</td>\n",
       "      <td>0.000000</td>\n",
       "    </tr>\n",
       "    <tr>\n",
       "      <th>max</th>\n",
       "      <td>82.000000</td>\n",
       "      <td>1.000000</td>\n",
       "      <td>1.000000</td>\n",
       "      <td>239.950000</td>\n",
       "      <td>49.900000</td>\n",
       "      <td>1.000000</td>\n",
       "    </tr>\n",
       "  </tbody>\n",
       "</table>\n",
       "</div>"
      ],
      "text/plain": [
       "               age  hypertension  heart_disease  avg_glucose_level  \\\n",
       "count  4975.000000   4975.000000    4975.000000        4975.000000   \n",
       "mean     42.949548      0.093668       0.053065         104.289035   \n",
       "std      22.697159      0.291396       0.224186          42.562731   \n",
       "min       0.080000      0.000000       0.000000          55.120000   \n",
       "25%      25.000000      0.000000       0.000000          77.050000   \n",
       "50%      44.000000      0.000000       0.000000          91.530000   \n",
       "75%      61.000000      0.000000       0.000000         112.780000   \n",
       "max      82.000000      1.000000       1.000000         239.950000   \n",
       "\n",
       "               bmi       stroke  \n",
       "count  4975.000000  4975.000000  \n",
       "mean     28.410862     0.047638  \n",
       "std       6.867685     0.213021  \n",
       "min      10.300000     0.000000  \n",
       "25%      23.600000     0.000000  \n",
       "50%      28.200000     0.000000  \n",
       "75%      32.500000     0.000000  \n",
       "max      49.900000     1.000000  "
      ]
     },
     "execution_count": 16,
     "metadata": {},
     "output_type": "execute_result"
    }
   ],
   "source": [
    "cleaned_data.describe()"
   ]
  },
  {
   "cell_type": "markdown",
   "metadata": {
    "id": "fe1CD7a2nBHc"
   },
   "source": [
    "### Duplicate Data\n",
    "Check existence of duplicate data and remove it if exist"
   ]
  },
  {
   "cell_type": "code",
   "execution_count": 17,
   "metadata": {
    "colab": {
     "base_uri": "https://localhost:8080/"
    },
    "executionInfo": {
     "elapsed": 419,
     "status": "ok",
     "timestamp": 1684146051861,
     "user": {
      "displayName": "Clarice Lau",
      "userId": "09231424434464769679"
     },
     "user_tz": -480
    },
    "id": "-vjpKur3nQ4S",
    "outputId": "a25a3586-2e5e-4166-cf6c-5f07477df09f"
   },
   "outputs": [
    {
     "data": {
      "text/plain": [
       "0"
      ]
     },
     "execution_count": 17,
     "metadata": {},
     "output_type": "execute_result"
    }
   ],
   "source": [
    "cleaned_data.duplicated().sum()"
   ]
  },
  {
   "cell_type": "markdown",
   "metadata": {
    "id": "cIoT455onX4o"
   },
   "source": [
    "\n",
    "*   No duplicate data found in this data set"
   ]
  },
  {
   "cell_type": "markdown",
   "metadata": {
    "id": "OhkXGjAZ6EeD"
   },
   "source": [
    "### Null Values\n",
    "Check existence of null values"
   ]
  },
  {
   "cell_type": "code",
   "execution_count": 18,
   "metadata": {
    "colab": {
     "base_uri": "https://localhost:8080/"
    },
    "executionInfo": {
     "elapsed": 319,
     "status": "ok",
     "timestamp": 1684146053907,
     "user": {
      "displayName": "Clarice Lau",
      "userId": "09231424434464769679"
     },
     "user_tz": -480
    },
    "id": "H4-03AHW6KnZ",
    "outputId": "9aa8d05c-57f9-456e-8d84-0381b0f28900"
   },
   "outputs": [
    {
     "data": {
      "text/plain": [
       "gender               0\n",
       "age                  0\n",
       "hypertension         0\n",
       "heart_disease        0\n",
       "ever_married         0\n",
       "work_type            0\n",
       "Residence_type       0\n",
       "avg_glucose_level    0\n",
       "bmi                  0\n",
       "smoking_status       0\n",
       "stroke               0\n",
       "dtype: int64"
      ]
     },
     "execution_count": 18,
     "metadata": {},
     "output_type": "execute_result"
    }
   ],
   "source": [
    "cleaned_data.isnull().sum()"
   ]
  },
  {
   "cell_type": "markdown",
   "metadata": {
    "id": "EOHTuLd26TOG"
   },
   "source": [
    "\n",
    "*   All null values are cleaned in data pre-processing"
   ]
  },
  {
   "cell_type": "markdown",
   "metadata": {
    "id": "uzQ1lzufngRg"
   },
   "source": [
    "### Unique Values\n",
    "Check the unique values of each column"
   ]
  },
  {
   "cell_type": "code",
   "execution_count": 19,
   "metadata": {
    "colab": {
     "base_uri": "https://localhost:8080/"
    },
    "executionInfo": {
     "elapsed": 4,
     "status": "ok",
     "timestamp": 1684146058093,
     "user": {
      "displayName": "Clarice Lau",
      "userId": "09231424434464769679"
     },
     "user_tz": -480
    },
    "id": "wN9bJM9pn4dA",
    "outputId": "bd6105f3-92cf-439e-d1f4-16b191310499"
   },
   "outputs": [
    {
     "data": {
      "text/plain": [
       "array(['Female', 'Male'], dtype=object)"
      ]
     },
     "execution_count": 19,
     "metadata": {},
     "output_type": "execute_result"
    }
   ],
   "source": [
    "cleaned_data['gender'].unique()"
   ]
  },
  {
   "cell_type": "markdown",
   "metadata": {
    "id": "isGPoLZNo1nc"
   },
   "source": [
    "Remarks\n",
    "*   Female - 0\n",
    "*   Male - 1\n",
    "\n",
    "\n",
    "\n",
    "\n"
   ]
  },
  {
   "cell_type": "code",
   "execution_count": 20,
   "metadata": {
    "colab": {
     "base_uri": "https://localhost:8080/"
    },
    "executionInfo": {
     "elapsed": 2,
     "status": "ok",
     "timestamp": 1684146059629,
     "user": {
      "displayName": "Clarice Lau",
      "userId": "09231424434464769679"
     },
     "user_tz": -480
    },
    "id": "fFBg0bWToGs6",
    "outputId": "d3b95517-0cb8-4c10-f3f0-85869f79ef2e"
   },
   "outputs": [
    {
     "data": {
      "text/plain": [
       "array([1.70e+01, 1.30e+01, 5.50e+01, 4.20e+01, 3.80e+01, 2.40e+01,\n",
       "       8.00e+01, 3.30e+01, 2.00e+01, 4.30e+01, 8.00e+00, 8.10e+01,\n",
       "       2.30e+01, 4.00e+00, 3.10e+01, 7.90e+01, 4.10e+01, 4.50e+01,\n",
       "       1.60e+01, 6.50e+01, 5.80e+01, 4.40e+01, 7.80e+01, 4.90e+01,\n",
       "       4.80e+01, 3.70e+01, 4.60e+01, 5.90e+01, 7.40e+01, 2.80e+01,\n",
       "       1.20e+01, 3.00e+00, 5.40e+01, 9.00e+00, 1.40e+01, 6.90e+01,\n",
       "       5.20e+01, 8.20e+01, 1.00e+01, 7.30e+01, 3.90e+01, 5.00e+00,\n",
       "       8.00e-01, 3.20e+01, 3.40e+01, 6.00e+01, 7.00e+00, 1.80e+01,\n",
       "       7.00e+01, 6.10e+01, 7.70e+01, 1.50e+01, 4.70e+01, 6.80e+01,\n",
       "       6.20e+01, 8.80e-01, 1.88e+00, 7.10e+01, 3.50e+01, 2.90e+01,\n",
       "       6.40e+01, 3.00e+01, 5.10e+01, 6.30e+01, 7.20e-01, 4.00e+01,\n",
       "       7.50e+01, 6.70e+01, 2.50e+01, 2.60e+01, 1.90e+01, 5.60e+01,\n",
       "       6.60e+01, 5.70e+01, 5.00e+01, 7.20e+01, 5.30e+01, 3.60e+01,\n",
       "       2.00e+00, 2.20e+01, 2.70e+01, 2.10e+01, 7.60e+01, 1.10e+01,\n",
       "       1.32e+00, 6.00e+00, 5.60e-01, 6.40e-01, 1.60e-01, 1.80e+00,\n",
       "       2.40e-01, 1.08e+00, 1.00e+00, 3.20e-01, 4.00e-01, 1.56e+00,\n",
       "       1.72e+00, 1.64e+00, 1.48e+00, 4.80e-01, 8.00e-02, 1.16e+00,\n",
       "       1.24e+00, 1.40e+00])"
      ]
     },
     "execution_count": 20,
     "metadata": {},
     "output_type": "execute_result"
    }
   ],
   "source": [
    "cleaned_data['age'].unique()"
   ]
  },
  {
   "cell_type": "code",
   "execution_count": 21,
   "metadata": {
    "colab": {
     "base_uri": "https://localhost:8080/"
    },
    "executionInfo": {
     "elapsed": 345,
     "status": "ok",
     "timestamp": 1684146063256,
     "user": {
      "displayName": "Clarice Lau",
      "userId": "09231424434464769679"
     },
     "user_tz": -480
    },
    "id": "JjkSTbhcoMnC",
    "outputId": "33dc0e6a-9de7-4be6-cf7d-60cdbc5170c2"
   },
   "outputs": [
    {
     "data": {
      "text/plain": [
       "array([0, 1], dtype=int64)"
      ]
     },
     "execution_count": 21,
     "metadata": {},
     "output_type": "execute_result"
    }
   ],
   "source": [
    "cleaned_data['hypertension'].unique()"
   ]
  },
  {
   "cell_type": "markdown",
   "metadata": {
    "id": "aggkfO1xpGYB"
   },
   "source": [
    "Remarks\n",
    "*   No - 0\n",
    "*   Yes - 1"
   ]
  },
  {
   "cell_type": "code",
   "execution_count": 22,
   "metadata": {
    "colab": {
     "base_uri": "https://localhost:8080/"
    },
    "executionInfo": {
     "elapsed": 4,
     "status": "ok",
     "timestamp": 1684146064684,
     "user": {
      "displayName": "Clarice Lau",
      "userId": "09231424434464769679"
     },
     "user_tz": -480
    },
    "id": "GaJ_x6LwoXoV",
    "outputId": "3e112b71-444f-4a02-93c1-e2ca6efc96b8"
   },
   "outputs": [
    {
     "data": {
      "text/plain": [
       "array([0, 1], dtype=int64)"
      ]
     },
     "execution_count": 22,
     "metadata": {},
     "output_type": "execute_result"
    }
   ],
   "source": [
    "cleaned_data['heart_disease'].unique()"
   ]
  },
  {
   "cell_type": "markdown",
   "metadata": {
    "id": "o3zFfWhEpj34"
   },
   "source": [
    "Remarks\n",
    "*   No - 0\n",
    "*   Yes - 1"
   ]
  },
  {
   "cell_type": "code",
   "execution_count": 23,
   "metadata": {
    "colab": {
     "base_uri": "https://localhost:8080/"
    },
    "executionInfo": {
     "elapsed": 332,
     "status": "ok",
     "timestamp": 1684146066416,
     "user": {
      "displayName": "Clarice Lau",
      "userId": "09231424434464769679"
     },
     "user_tz": -480
    },
    "id": "APkTE6OWoaLd",
    "outputId": "c5b9b26a-0d45-4f28-fc08-ca03e1fd56f1"
   },
   "outputs": [
    {
     "data": {
      "text/plain": [
       "array(['No', 'Yes'], dtype=object)"
      ]
     },
     "execution_count": 23,
     "metadata": {},
     "output_type": "execute_result"
    }
   ],
   "source": [
    "cleaned_data['ever_married'].unique()"
   ]
  },
  {
   "cell_type": "markdown",
   "metadata": {
    "id": "HhZvVOFvpluW"
   },
   "source": [
    "Remarks\n",
    "*   No - 0\n",
    "*   Yes - 1"
   ]
  },
  {
   "cell_type": "code",
   "execution_count": 24,
   "metadata": {
    "colab": {
     "base_uri": "https://localhost:8080/"
    },
    "executionInfo": {
     "elapsed": 535,
     "status": "ok",
     "timestamp": 1684146068159,
     "user": {
      "displayName": "Clarice Lau",
      "userId": "09231424434464769679"
     },
     "user_tz": -480
    },
    "id": "iMLXqk6_oa0h",
    "outputId": "57475122-3f99-446b-ad53-ce4b36156c9c"
   },
   "outputs": [
    {
     "data": {
      "text/plain": [
       "array(['Private', 'children', 'Govt_job', 'Self-employed', 'Never_worked'],\n",
       "      dtype=object)"
      ]
     },
     "execution_count": 24,
     "metadata": {},
     "output_type": "execute_result"
    }
   ],
   "source": [
    "cleaned_data['work_type'].unique()"
   ]
  },
  {
   "cell_type": "markdown",
   "metadata": {
    "id": "JPI_SRgcpjb_"
   },
   "source": [
    "Remarks\n",
    "*   Govt_job - 0\n",
    "*   Never_worked - 1\n",
    "*   Private - 2\n",
    "*   Self-employed - 3\n",
    "*   children - 4"
   ]
  },
  {
   "cell_type": "code",
   "execution_count": 25,
   "metadata": {
    "colab": {
     "base_uri": "https://localhost:8080/"
    },
    "executionInfo": {
     "elapsed": 2,
     "status": "ok",
     "timestamp": 1684146069935,
     "user": {
      "displayName": "Clarice Lau",
      "userId": "09231424434464769679"
     },
     "user_tz": -480
    },
    "id": "1NXTktdjobP4",
    "outputId": "22b67cea-7531-4cd7-d7b8-5e420bcd2d34"
   },
   "outputs": [
    {
     "data": {
      "text/plain": [
       "array(['Urban', 'Rural'], dtype=object)"
      ]
     },
     "execution_count": 25,
     "metadata": {},
     "output_type": "execute_result"
    }
   ],
   "source": [
    "cleaned_data['Residence_type'].unique()"
   ]
  },
  {
   "cell_type": "markdown",
   "metadata": {
    "id": "4c7XjfZ5qEZU"
   },
   "source": [
    "Remarks\n",
    "*   Rural - 0\n",
    "*   Urban - 1"
   ]
  },
  {
   "cell_type": "code",
   "execution_count": 26,
   "metadata": {
    "colab": {
     "base_uri": "https://localhost:8080/"
    },
    "executionInfo": {
     "elapsed": 3,
     "status": "ok",
     "timestamp": 1684146071079,
     "user": {
      "displayName": "Clarice Lau",
      "userId": "09231424434464769679"
     },
     "user_tz": -480
    },
    "id": "njVfKvZ5obth",
    "outputId": "201006ed-c094-49bd-d59a-f991829f5c10"
   },
   "outputs": [
    {
     "data": {
      "text/plain": [
       "array([ 92.97,  85.81,  89.17, ..., 172.33,  62.55, 102.92])"
      ]
     },
     "execution_count": 26,
     "metadata": {},
     "output_type": "execute_result"
    }
   ],
   "source": [
    "cleaned_data['avg_glucose_level'].unique()"
   ]
  },
  {
   "cell_type": "code",
   "execution_count": 27,
   "metadata": {
    "colab": {
     "base_uri": "https://localhost:8080/"
    },
    "executionInfo": {
     "elapsed": 2,
     "status": "ok",
     "timestamp": 1684146072768,
     "user": {
      "displayName": "Clarice Lau",
      "userId": "09231424434464769679"
     },
     "user_tz": -480
    },
    "id": "ur5cMV8nqi5n",
    "outputId": "87352552-cee0-47b9-edbc-ba5883ab3b9f"
   },
   "outputs": [
    {
     "data": {
      "text/plain": [
       "array([28.41086229, 18.6       , 31.5       , 18.5       , 26.2       ,\n",
       "       42.2       , 28.8       , 27.6       , 37.6       , 31.4       ,\n",
       "       17.5       , 31.6       , 24.9       , 39.7       , 36.4       ,\n",
       "       28.4       , 28.9       , 25.7       , 26.8       , 41.3       ,\n",
       "       37.        , 24.1       , 23.9       , 31.        , 26.6       ,\n",
       "       23.1       , 20.9       , 21.4       , 36.2       , 20.1       ,\n",
       "       22.8       , 40.1       , 22.2       , 26.5       , 24.3       ,\n",
       "       44.7       , 30.4       , 34.3       , 20.7       , 33.1       ,\n",
       "       27.3       , 37.8       , 23.4       , 29.5       , 22.4       ,\n",
       "       24.2       , 17.        , 32.2       , 23.3       , 30.        ,\n",
       "       28.7       , 21.3       , 26.7       , 22.1       , 27.2       ,\n",
       "       39.3       , 27.1       , 38.8       , 28.5       , 18.9       ,\n",
       "       40.8       , 21.5       , 16.3       , 23.5       , 30.1       ,\n",
       "       22.7       , 42.6       , 35.9       , 26.1       , 43.        ,\n",
       "       24.        , 47.6       , 29.9       , 31.7       , 42.8       ,\n",
       "       38.        , 29.6       , 27.5       , 29.7       , 32.9       ,\n",
       "       31.2       , 35.3       , 30.9       , 31.9       , 24.7       ,\n",
       "       33.5       , 28.1       , 36.        , 29.8       , 36.1       ,\n",
       "       32.3       , 24.4       , 21.1       , 34.5       , 22.6       ,\n",
       "       32.        , 31.8       , 33.7       , 28.2       , 18.        ,\n",
       "       37.7       , 27.        , 29.        , 30.2       , 25.8       ,\n",
       "       20.2       , 29.4       , 32.4       , 16.7       , 32.1       ,\n",
       "       23.8       , 17.3       , 35.8       , 22.9       , 18.1       ,\n",
       "       30.5       , 32.7       , 27.8       , 17.1       , 18.3       ,\n",
       "       33.        , 11.3       , 29.1       , 39.5       , 23.6       ,\n",
       "       23.7       , 23.2       , 20.4       , 44.3       , 34.2       ,\n",
       "       39.4       , 20.5       , 40.2       , 34.1       , 24.6       ,\n",
       "       32.8       , 15.3       , 21.2       , 26.9       , 26.        ,\n",
       "       48.8       , 27.7       , 25.9       , 21.6       , 26.3       ,\n",
       "       20.3       , 21.8       , 43.8       , 21.        , 30.8       ,\n",
       "       38.9       , 38.2       , 19.8       , 26.4       , 44.        ,\n",
       "       36.5       , 36.9       , 24.5       , 31.3       , 28.        ,\n",
       "       20.8       , 22.3       , 25.5       , 19.4       , 27.9       ,\n",
       "       13.4       , 48.        , 38.7       , 25.4       , 30.7       ,\n",
       "       40.9       , 16.1       , 35.2       , 16.6       , 30.3       ,\n",
       "       21.7       , 28.3       , 35.7       , 15.6       , 34.6       ,\n",
       "       32.5       , 35.5       , 23.        , 14.8       , 16.8       ,\n",
       "       38.1       , 34.7       , 45.3       , 35.1       , 16.5       ,\n",
       "       38.6       , 30.6       , 27.4       , 24.8       , 15.1       ,\n",
       "       13.8       , 18.4       , 18.8       , 40.3       , 19.        ,\n",
       "       17.6       , 19.2       , 19.5       , 33.3       , 42.5       ,\n",
       "       20.6       , 39.9       , 32.6       , 18.7       , 45.        ,\n",
       "       44.4       , 41.8       , 21.9       , 18.2       , 38.3       ,\n",
       "       40.4       , 41.6       , 17.4       , 42.        , 34.        ,\n",
       "       25.1       , 15.2       , 33.9       , 37.4       , 34.4       ,\n",
       "       13.9       , 40.6       , 19.7       , 17.8       , 17.9       ,\n",
       "       33.2       , 33.4       , 16.4       , 20.        , 36.6       ,\n",
       "       31.1       , 35.6       , 49.9       , 47.3       , 29.3       ,\n",
       "       37.9       , 22.        , 39.        , 25.6       , 39.1       ,\n",
       "       28.6       , 25.3       , 14.6       , 16.        , 29.2       ,\n",
       "       39.2       , 35.        , 44.6       , 16.9       , 33.6       ,\n",
       "       15.9       , 45.2       , 14.2       , 37.3       , 19.3       ,\n",
       "       34.9       , 17.7       , 43.7       , 25.2       , 36.8       ,\n",
       "       14.5       , 42.1       , 44.8       , 45.5       , 19.6       ,\n",
       "       33.8       , 15.        , 15.8       , 41.2       , 25.        ,\n",
       "       40.        , 48.9       , 42.4       , 37.2       , 43.6       ,\n",
       "       37.1       , 45.8       , 41.1       , 19.9       , 36.7       ,\n",
       "       43.9       , 41.5       , 19.1       , 43.3       , 34.8       ,\n",
       "       36.3       , 49.8       , 47.5       , 41.4       , 35.4       ,\n",
       "       44.9       , 38.4       , 14.1       , 39.6       , 12.        ,\n",
       "       45.7       , 15.7       , 39.8       , 41.9       , 48.3       ,\n",
       "       46.9       , 46.6       , 15.5       , 22.5       , 43.1       ,\n",
       "       48.1       , 16.2       , 37.5       , 14.        , 46.        ,\n",
       "       42.7       , 41.        , 13.7       , 47.1       , 49.3       ,\n",
       "       45.9       , 48.4       , 17.2       , 38.5       , 46.1       ,\n",
       "       45.4       , 42.3       , 46.2       , 41.7       , 13.3       ,\n",
       "       43.4       , 14.3       , 43.2       , 44.5       , 48.5       ,\n",
       "       46.4       , 47.9       , 10.3       , 48.2       , 47.8       ,\n",
       "       49.5       , 47.4       , 13.        , 49.4       , 40.5       ,\n",
       "       44.2       , 12.3       , 42.9       , 46.5       , 46.8       ,\n",
       "       13.2       , 14.4       , 46.3       , 15.4       , 12.8       ,\n",
       "       45.1       , 13.5       , 44.1       , 11.5       , 48.7       ,\n",
       "       40.7       , 14.9       , 49.2       ])"
      ]
     },
     "execution_count": 27,
     "metadata": {},
     "output_type": "execute_result"
    }
   ],
   "source": [
    "cleaned_data['bmi'].unique()"
   ]
  },
  {
   "cell_type": "code",
   "execution_count": 28,
   "metadata": {
    "colab": {
     "base_uri": "https://localhost:8080/"
    },
    "executionInfo": {
     "elapsed": 316,
     "status": "ok",
     "timestamp": 1684146116788,
     "user": {
      "displayName": "Clarice Lau",
      "userId": "09231424434464769679"
     },
     "user_tz": -480
    },
    "id": "yQnBLMtBqaCn",
    "outputId": "bb56eb18-8918-4ffd-c27f-b2e721b70fa4"
   },
   "outputs": [
    {
     "data": {
      "text/plain": [
       "array(['formerly smoked', 'Unknown', 'never smoked', 'smokes'],\n",
       "      dtype=object)"
      ]
     },
     "execution_count": 28,
     "metadata": {},
     "output_type": "execute_result"
    }
   ],
   "source": [
    "cleaned_data['smoking_status'].unique()"
   ]
  },
  {
   "cell_type": "markdown",
   "metadata": {
    "id": "83k5D4d3qaNb"
   },
   "source": [
    "Remarks\n",
    "*   Unknown - 0\n",
    "*   formerly smoked - 1\n",
    "*   never smoked - 2\n",
    "*   smokes - 3"
   ]
  },
  {
   "cell_type": "code",
   "execution_count": 29,
   "metadata": {
    "colab": {
     "base_uri": "https://localhost:8080/"
    },
    "executionInfo": {
     "elapsed": 329,
     "status": "ok",
     "timestamp": 1684146118685,
     "user": {
      "displayName": "Clarice Lau",
      "userId": "09231424434464769679"
     },
     "user_tz": -480
    },
    "id": "v3FWX3H7ocDc",
    "outputId": "a3cf3f82-3ac0-4e82-b014-d7849de571cd"
   },
   "outputs": [
    {
     "data": {
      "text/plain": [
       "array([0, 1], dtype=int64)"
      ]
     },
     "execution_count": 29,
     "metadata": {},
     "output_type": "execute_result"
    }
   ],
   "source": [
    "cleaned_data['stroke'].unique()"
   ]
  },
  {
   "cell_type": "markdown",
   "metadata": {
    "id": "LMzU057kqvgw"
   },
   "source": [
    "Remarks\n",
    "*   No - 0\n",
    "*   Yes - 1"
   ]
  },
  {
   "cell_type": "markdown",
   "metadata": {
    "id": "KO4W6NnxqZS6"
   },
   "source": [
    "### Visualize the Unique Counts"
   ]
  },
  {
   "cell_type": "markdown",
   "metadata": {
    "id": "j1FDEVlIoRFV"
   },
   "source": [
    "Gender"
   ]
  },
  {
   "cell_type": "code",
   "execution_count": 30,
   "metadata": {
    "colab": {
     "base_uri": "https://localhost:8080/",
     "height": 472
    },
    "executionInfo": {
     "elapsed": 394,
     "status": "ok",
     "timestamp": 1684146120790,
     "user": {
      "displayName": "Clarice Lau",
      "userId": "09231424434464769679"
     },
     "user_tz": -480
    },
    "id": "mjDGhbB8rCGE",
    "outputId": "5b3adbaf-0026-40cf-a0fb-feb1d06ef39b"
   },
   "outputs": [
    {
     "data": {
      "image/png": "[encoded data removed]",
      "text/plain": [
       "<Figure size 640x480 with 1 Axes>"
      ]
     },
     "metadata": {},
     "output_type": "display_data"
    }
   ],
   "source": [
    "cleaned_data.gender.value_counts().plot(kind=\"bar\")\n",
    "plt.title(\"Gender\")\n",
    "plt.xlabel(\"Gender\")\n",
    "plt.xticks(rotation=0)\n",
    "plt.ylabel(\"Count\")\n",
    "plt.show()"
   ]
  },
  {
   "cell_type": "markdown",
   "metadata": {
    "id": "Koop9w5UsjA9"
   },
   "source": [
    "Remarks:\n",
    "*   Female - 0\n",
    "*   Male - 1\n",
    "\n",
    "\n",
    "\n",
    "\n"
   ]
  },
  {
   "cell_type": "markdown",
   "metadata": {
    "id": "SNn8XY4yy041"
   },
   "source": [
    "*   Female patient is more than male patient"
   ]
  },
  {
   "cell_type": "markdown",
   "metadata": {
    "id": "7ywFX6wHsfQ9"
   },
   "source": [
    "Age"
   ]
  },
  {
   "cell_type": "code",
   "execution_count": 31,
   "metadata": {
    "colab": {
     "base_uri": "https://localhost:8080/",
     "height": 477
    },
    "executionInfo": {
     "elapsed": 592,
     "status": "ok",
     "timestamp": 1684146124203,
     "user": {
      "displayName": "Clarice Lau",
      "userId": "09231424434464769679"
     },
     "user_tz": -480
    },
    "id": "GxVRARUUs-Rg",
    "outputId": "9f2cb134-3aae-4183-81ec-038e5983f2aa"
   },
   "outputs": [
    {
     "data": {
      "image/png": "[encoded data removed]",
      "text/plain": [
       "<Figure size 640x480 with 1 Axes>"
      ]
     },
     "metadata": {},
     "output_type": "display_data"
    }
   ],
   "source": [
    "plt.style.use('ggplot')\n",
    "plt.hist(cleaned_data.age, bins=30)\n",
    "plt.title(\"Age\")\n",
    "plt.xlabel(\"Age\")\n",
    "plt.xticks(rotation=0)\n",
    "plt.ylabel(\"Count\")\n",
    "plt.show()"
   ]
  },
  {
   "cell_type": "code",
   "execution_count": 32,
   "metadata": {
    "colab": {
     "base_uri": "https://localhost:8080/"
    },
    "executionInfo": {
     "elapsed": 325,
     "status": "ok",
     "timestamp": 1684146128764,
     "user": {
      "displayName": "Clarice Lau",
      "userId": "09231424434464769679"
     },
     "user_tz": -480
    },
    "id": "exKYQ5GVykte",
    "outputId": "12a3372d-8133-487e-dc17-05a7a1c106a8"
   },
   "outputs": [
    {
     "name": "stdout",
     "output_type": "stream",
     "text": [
      "Skewness: -0.12200244230411943\n",
      "Kurtosis: -1.0046458423956799\n"
     ]
    }
   ],
   "source": [
    "print(f\"Skewness: {cleaned_data['age'].skew()}\")\n",
    "print(f\"Kurtosis: {cleaned_data['age'].kurt()}\")"
   ]
  },
  {
   "cell_type": "markdown",
   "metadata": {
    "id": "ejIdb82BzEhe"
   },
   "source": [
    "\n",
    "*   Age is negative skewed distribution\n",
    "*   Age is platykurtic distribution\n",
    "\n"
   ]
  },
  {
   "cell_type": "markdown",
   "metadata": {
    "id": "iw6J4K1tz-j5"
   },
   "source": [
    "Hypertension"
   ]
  },
  {
   "cell_type": "code",
   "execution_count": 33,
   "metadata": {
    "colab": {
     "base_uri": "https://localhost:8080/",
     "height": 477
    },
    "executionInfo": {
     "elapsed": 418,
     "status": "ok",
     "timestamp": 1684146130891,
     "user": {
      "displayName": "Clarice Lau",
      "userId": "09231424434464769679"
     },
     "user_tz": -480
    },
    "id": "5fIVpuRR22ba",
    "outputId": "7cb90db0-cf9c-46fc-9763-91a81899fada"
   },
   "outputs": [
    {
     "data": {
      "image/png": "[encoded data removed]",
      "text/plain": [
       "<Figure size 640x480 with 1 Axes>"
      ]
     },
     "metadata": {},
     "output_type": "display_data"
    }
   ],
   "source": [
    "cleaned_data.hypertension.value_counts().plot(kind=\"bar\")\n",
    "plt.title(\"Hypertension\")\n",
    "plt.xlabel(\"Hypertension\")\n",
    "plt.xticks(rotation=0)\n",
    "plt.ylabel(\"Count\")\n",
    "plt.show()"
   ]
  },
  {
   "cell_type": "markdown",
   "metadata": {
    "id": "OuDWWFlF0lp7"
   },
   "source": [
    "Remarks\n",
    "*   No - 0\n",
    "*   Yes - 1"
   ]
  },
  {
   "cell_type": "markdown",
   "metadata": {
    "id": "5boe6Lvu3DQY"
   },
   "source": [
    "*   Patient doesn't have hypertension is more than patient has hypertension"
   ]
  },
  {
   "cell_type": "markdown",
   "metadata": {
    "id": "6WL0Yr0Q0FGd"
   },
   "source": [
    "Heart disease"
   ]
  },
  {
   "cell_type": "code",
   "execution_count": 34,
   "metadata": {
    "colab": {
     "base_uri": "https://localhost:8080/",
     "height": 477
    },
    "executionInfo": {
     "elapsed": 382,
     "status": "ok",
     "timestamp": 1684146134602,
     "user": {
      "displayName": "Clarice Lau",
      "userId": "09231424434464769679"
     },
     "user_tz": -480
    },
    "id": "-70Ag4z43bPU",
    "outputId": "a72c13f6-f593-4ef4-da4a-827eb1c591b4"
   },
   "outputs": [
    {
     "data": {
      "image/png": "[encoded data removed]",
      "text/plain": [
       "<Figure size 640x480 with 1 Axes>"
      ]
     },
     "metadata": {},
     "output_type": "display_data"
    }
   ],
   "source": [
    "cleaned_data.heart_disease.value_counts().plot(kind=\"bar\")\n",
    "plt.title(\"Heart disease\")\n",
    "plt.xlabel(\"Heart disease\")\n",
    "plt.xticks(rotation=0)\n",
    "plt.ylabel(\"Count\")\n",
    "plt.show()"
   ]
  },
  {
   "cell_type": "markdown",
   "metadata": {
    "id": "T7NmzeyZ0mLq"
   },
   "source": [
    "Remarks\n",
    "*   No - 0\n",
    "*   Yes - 1"
   ]
  },
  {
   "cell_type": "markdown",
   "metadata": {
    "id": "V7I8vZgo3vPf"
   },
   "source": [
    "*   Patient doesn't have any heart disease is more than patient has a heart disease"
   ]
  },
  {
   "cell_type": "markdown",
   "metadata": {
    "id": "upm1kslU0HjJ"
   },
   "source": [
    "Marital status (ever married)"
   ]
  },
  {
   "cell_type": "code",
   "execution_count": 35,
   "metadata": {
    "colab": {
     "base_uri": "https://localhost:8080/",
     "height": 477
    },
    "executionInfo": {
     "elapsed": 616,
     "status": "ok",
     "timestamp": 1684146138026,
     "user": {
      "displayName": "Clarice Lau",
      "userId": "09231424434464769679"
     },
     "user_tz": -480
    },
    "id": "PYYMuEAk36Kg",
    "outputId": "6d883df1-e0a8-4e92-b775-1cf6fe4e61f4"
   },
   "outputs": [
    {
     "data": {
      "image/png": "[encoded data removed]",
      "text/plain": [
       "<Figure size 640x480 with 1 Axes>"
      ]
     },
     "metadata": {},
     "output_type": "display_data"
    }
   ],
   "source": [
    "cleaned_data.ever_married.value_counts().plot(kind=\"bar\")\n",
    "plt.title(\"Marital status (ever married)\")\n",
    "plt.xlabel(\"Marital status (ever married)\")\n",
    "plt.xticks(rotation=0)\n",
    "plt.ylabel(\"Count\")\n",
    "plt.show()"
   ]
  },
  {
   "cell_type": "markdown",
   "metadata": {
    "id": "0BhHeREA0zyD"
   },
   "source": [
    "Remarks\n",
    "*   No - 0\n",
    "*   Yes - 1"
   ]
  },
  {
   "cell_type": "markdown",
   "metadata": {
    "id": "TkWkn8OS4EMA"
   },
   "source": [
    "*   Patient ever married is more than patient no even married"
   ]
  },
  {
   "cell_type": "markdown",
   "metadata": {
    "id": "pV1hLG5S0QFR"
   },
   "source": [
    "Work type"
   ]
  },
  {
   "cell_type": "code",
   "execution_count": 36,
   "metadata": {
    "colab": {
     "base_uri": "https://localhost:8080/",
     "height": 477
    },
    "executionInfo": {
     "elapsed": 744,
     "status": "ok",
     "timestamp": 1684146141531,
     "user": {
      "displayName": "Clarice Lau",
      "userId": "09231424434464769679"
     },
     "user_tz": -480
    },
    "id": "zjX_3NYW1cha",
    "outputId": "151373c4-6075-463f-8ee5-d03e8c28a3b6"
   },
   "outputs": [
    {
     "data": {
      "image/png": "[encoded data removed]",
      "text/plain": [
       "<Figure size 640x480 with 1 Axes>"
      ]
     },
     "metadata": {},
     "output_type": "display_data"
    }
   ],
   "source": [
    "cleaned_data.work_type.value_counts().plot(kind=\"bar\")\n",
    "plt.title(\"Work type\")\n",
    "plt.xlabel(\"work_type\")\n",
    "plt.xticks(rotation=0)\n",
    "plt.ylabel(\"Count\")\n",
    "plt.show()"
   ]
  },
  {
   "cell_type": "markdown",
   "metadata": {
    "id": "aCTOyMS804Ep"
   },
   "source": [
    "Remarks\n",
    "*   Govt_job - 0\n",
    "*   Never_worked - 1\n",
    "*   Private - 2\n",
    "*   Self-employed - 3\n",
    "*   children - 4"
   ]
  },
  {
   "cell_type": "markdown",
   "metadata": {
    "id": "uDyNTjjQ4j4W"
   },
   "source": [
    "*   Most of the patients work in private sector"
   ]
  },
  {
   "cell_type": "markdown",
   "metadata": {
    "id": "r7h-UoYS0Rc8"
   },
   "source": [
    "Residence type"
   ]
  },
  {
   "cell_type": "code",
   "execution_count": 37,
   "metadata": {
    "colab": {
     "base_uri": "https://localhost:8080/",
     "height": 477
    },
    "executionInfo": {
     "elapsed": 537,
     "status": "ok",
     "timestamp": 1684146145941,
     "user": {
      "displayName": "Clarice Lau",
      "userId": "09231424434464769679"
     },
     "user_tz": -480
    },
    "id": "X6yMaoZV4uLA",
    "outputId": "02f543ff-a463-4294-f2dc-c9a00964604c"
   },
   "outputs": [
    {
     "data": {
      "image/png": "[encoded data removed]",
      "text/plain": [
       "<Figure size 640x480 with 1 Axes>"
      ]
     },
     "metadata": {},
     "output_type": "display_data"
    }
   ],
   "source": [
    "cleaned_data.Residence_type.value_counts().plot(kind=\"bar\")\n",
    "plt.title(\"Residence type\")\n",
    "plt.xlabel(\"Residence type\")\n",
    "plt.xticks(rotation=0)\n",
    "plt.ylabel(\"Count\")\n",
    "plt.show()"
   ]
  },
  {
   "cell_type": "markdown",
   "metadata": {
    "id": "QmvVFpgs09yJ"
   },
   "source": [
    "Remarks\n",
    "*   Rural - 0\n",
    "*   Urban - 1"
   ]
  },
  {
   "cell_type": "markdown",
   "metadata": {
    "id": "fu-epd7w493h"
   },
   "source": [
    "*   Patients live in urban is slightly more than patients live in rural"
   ]
  },
  {
   "cell_type": "markdown",
   "metadata": {
    "id": "TMZ16vaJ0W3k"
   },
   "source": [
    "Average glucose level"
   ]
  },
  {
   "cell_type": "code",
   "execution_count": 38,
   "metadata": {
    "colab": {
     "base_uri": "https://localhost:8080/",
     "height": 477
    },
    "executionInfo": {
     "elapsed": 428,
     "status": "ok",
     "timestamp": 1684146148983,
     "user": {
      "displayName": "Clarice Lau",
      "userId": "09231424434464769679"
     },
     "user_tz": -480
    },
    "id": "H-geTVvf1E8j",
    "outputId": "487a4b35-ebdf-4ea6-f97d-ba7073ba10a7"
   },
   "outputs": [
    {
     "data": {
      "image/png": "[encoded data removed]",
      "text/plain": [
       "<Figure size 640x480 with 1 Axes>"
      ]
     },
     "metadata": {},
     "output_type": "display_data"
    }
   ],
   "source": [
    "plt.style.use('ggplot')\n",
    "plt.hist(cleaned_data.avg_glucose_level, bins=30)\n",
    "plt.title(\"Average Glucose Level\")\n",
    "plt.xlabel(\"Average Glucose Level\")\n",
    "plt.xticks(rotation=0)\n",
    "plt.ylabel(\"Count\")\n",
    "plt.show()"
   ]
  },
  {
   "cell_type": "code",
   "execution_count": 39,
   "metadata": {
    "colab": {
     "base_uri": "https://localhost:8080/"
    },
    "executionInfo": {
     "elapsed": 302,
     "status": "ok",
     "timestamp": 1684146151903,
     "user": {
      "displayName": "Clarice Lau",
      "userId": "09231424434464769679"
     },
     "user_tz": -480
    },
    "id": "Ml-qamJh1fgz",
    "outputId": "f048a229-7ad4-4b65-f25a-e7b13c9f3204"
   },
   "outputs": [
    {
     "name": "stdout",
     "output_type": "stream",
     "text": [
      "Skewness: 1.5701915069239691\n",
      "Kurtosis: 1.7318018254143444\n"
     ]
    }
   ],
   "source": [
    "print(f\"Skewness: {cleaned_data['avg_glucose_level'].skew()}\")\n",
    "print(f\"Kurtosis: {cleaned_data['avg_glucose_level'].kurt()}\")"
   ]
  },
  {
   "cell_type": "markdown",
   "metadata": {
    "id": "9bH9LS-p1n3y"
   },
   "source": [
    "\n",
    "*   Average glucose level is positive skewed distribution\n",
    "*   Average glucose level is leptokurtic distribution\n",
    "\n"
   ]
  },
  {
   "cell_type": "markdown",
   "metadata": {
    "id": "dpieWIlg0bP_"
   },
   "source": [
    "BMI"
   ]
  },
  {
   "cell_type": "code",
   "execution_count": 40,
   "metadata": {
    "colab": {
     "base_uri": "https://localhost:8080/",
     "height": 477
    },
    "executionInfo": {
     "elapsed": 417,
     "status": "ok",
     "timestamp": 1684146155090,
     "user": {
      "displayName": "Clarice Lau",
      "userId": "09231424434464769679"
     },
     "user_tz": -480
    },
    "id": "BTDvwjKl1-TY",
    "outputId": "4ba31ce8-97ca-44c9-a540-a05f5db7c684"
   },
   "outputs": [
    {
     "data": {
      "image/png": "[encoded data removed]",
      "text/plain": [
       "<Figure size 640x480 with 1 Axes>"
      ]
     },
     "metadata": {},
     "output_type": "display_data"
    }
   ],
   "source": [
    "plt.style.use('ggplot')\n",
    "plt.hist(cleaned_data.bmi, bins=30)\n",
    "plt.title(\"BMI\")\n",
    "plt.xlabel(\"BMI\")\n",
    "plt.xticks(rotation=0)\n",
    "plt.ylabel(\"Count\")\n",
    "plt.show()"
   ]
  },
  {
   "cell_type": "code",
   "execution_count": 41,
   "metadata": {
    "colab": {
     "base_uri": "https://localhost:8080/"
    },
    "executionInfo": {
     "elapsed": 2,
     "status": "ok",
     "timestamp": 1684146158200,
     "user": {
      "displayName": "Clarice Lau",
      "userId": "09231424434464769679"
     },
     "user_tz": -480
    },
    "id": "FpbvhAY52IwW",
    "outputId": "b9415c8d-b427-4675-e465-2d68a4c30a08"
   },
   "outputs": [
    {
     "name": "stdout",
     "output_type": "stream",
     "text": [
      "Skewness: 0.4089220096789677\n",
      "Kurtosis: 0.004919394040483027\n"
     ]
    }
   ],
   "source": [
    "print(f\"Skewness: {cleaned_data['bmi'].skew()}\")\n",
    "print(f\"Kurtosis: {cleaned_data['bmi'].kurt()}\")"
   ]
  },
  {
   "cell_type": "markdown",
   "metadata": {
    "id": "gF39K2u72Ptb"
   },
   "source": [
    "\n",
    "*   BMI is approximately symmetric distribution\n",
    "*   BMI is mesokurtic distribution\n",
    "\n"
   ]
  },
  {
   "cell_type": "markdown",
   "metadata": {
    "id": "5rkw81M40cGu"
   },
   "source": [
    "Smoking status"
   ]
  },
  {
   "cell_type": "code",
   "execution_count": 42,
   "metadata": {
    "colab": {
     "base_uri": "https://localhost:8080/",
     "height": 477
    },
    "executionInfo": {
     "elapsed": 838,
     "status": "ok",
     "timestamp": 1684146161046,
     "user": {
      "displayName": "Clarice Lau",
      "userId": "09231424434464769679"
     },
     "user_tz": -480
    },
    "id": "8GOcS0r25NQX",
    "outputId": "5117a7a9-2376-4732-f8c5-970646d5160b"
   },
   "outputs": [
    {
     "data": {
      "image/png": "[encoded data removed]",
      "text/plain": [
       "<Figure size 640x480 with 1 Axes>"
      ]
     },
     "metadata": {},
     "output_type": "display_data"
    }
   ],
   "source": [
    "cleaned_data.smoking_status.value_counts().plot(kind=\"bar\")\n",
    "plt.title(\"Smoking status\")\n",
    "plt.xlabel(\"Smoking status\")\n",
    "plt.xticks(rotation=0)\n",
    "plt.ylabel(\"Count\")\n",
    "plt.show()"
   ]
  },
  {
   "cell_type": "markdown",
   "metadata": {
    "id": "EWuqJ8nD1Bd_"
   },
   "source": [
    "Remarks\n",
    "*   Unknown - 0\n",
    "*   formerly smoked - 1\n",
    "*   never smoked - 2\n",
    "*   smokes - 3"
   ]
  },
  {
   "cell_type": "markdown",
   "metadata": {
    "id": "yWxZ1cv85aIP"
   },
   "source": [
    "*   Most of the patients never smoked"
   ]
  },
  {
   "cell_type": "markdown",
   "metadata": {
    "id": "riEGWMs20eFf"
   },
   "source": [
    "Stroke"
   ]
  },
  {
   "cell_type": "code",
   "execution_count": 43,
   "metadata": {
    "colab": {
     "base_uri": "https://localhost:8080/",
     "height": 477
    },
    "executionInfo": {
     "elapsed": 368,
     "status": "ok",
     "timestamp": 1684146169952,
     "user": {
      "displayName": "Clarice Lau",
      "userId": "09231424434464769679"
     },
     "user_tz": -480
    },
    "id": "zv9785uk5hCl",
    "outputId": "cc7a99c2-75db-4274-84e8-dec79d0012d9"
   },
   "outputs": [
    {
     "data": {
      "image/png": "[encoded data removed]",
      "text/plain": [
       "<Figure size 640x480 with 1 Axes>"
      ]
     },
     "metadata": {},
     "output_type": "display_data"
    }
   ],
   "source": [
    "cleaned_data.stroke.value_counts().plot(kind=\"bar\")\n",
    "plt.title(\"Stroke\")\n",
    "plt.xlabel(\"Stroke\")\n",
    "plt.xticks(rotation=0)\n",
    "plt.ylabel(\"Count\")\n",
    "# Create a bar chart\n",
    "plt.show()"
   ]
  },
  {
   "cell_type": "markdown",
   "metadata": {
    "id": "w_TTPLdh0nbY"
   },
   "source": [
    "Remarks\n",
    "*   No - 0\n",
    "*   Yes - 1"
   ]
  },
  {
   "cell_type": "markdown",
   "metadata": {
    "id": "gom0M8w-5wUW"
   },
   "source": [
    "*   Patient doesn't have a stroke is more than patient had a stroke"
   ]
  },
  {
   "cell_type": "markdown",
   "metadata": {
    "id": "G5R_xmfI2aQP"
   },
   "source": []
  },
  {
   "cell_type": "markdown",
   "metadata": {
    "id": "_-pQD7qxzG-a"
   },
   "source": [
    "Summary of Chart"
   ]
  },
  {
   "cell_type": "code",
   "execution_count": 44,
   "metadata": {
    "colab": {
     "base_uri": "https://localhost:8080/",
     "height": 1000
    },
    "executionInfo": {
     "elapsed": 2668,
     "status": "ok",
     "timestamp": 1684146494355,
     "user": {
      "displayName": "Clarice Lau",
      "userId": "09231424434464769679"
     },
     "user_tz": -480
    },
    "id": "yERpFCcbzJsx",
    "outputId": "1f18e8d3-ee77-4fb8-fcb0-38e0524faa26"
   },
   "outputs": [
    {
     "data": {
      "text/plain": [
       "(0.0, 1.0, 0.0, 1.0)"
      ]
     },
     "execution_count": 44,
     "metadata": {},
     "output_type": "execute_result"
    }
   ],
   "source": [
    "import matplotlib.pyplot as plt\n",
    "\n",
    "# Create a figure with 3 rows and 4 columns of subplots\n",
    "fig, axes = plt.subplots(nrows=3, ncols=4, figsize=(20, 15))\n",
    "\n",
    "#Set the spacing between the subplots\n",
    "fig.subplots_adjust(hspace=1.0,wspace=0.5)\n",
    "\n",
    "# Plot the data for each subplot\n",
    "cleaned_data.gender.value_counts().plot(kind=\"bar\", ax=axes[0, 0])\n",
    "axes[0, 0].set_title(\"Gender\")\n",
    "axes[0, 0].set_xlabel(\"Gender\")\n",
    "axes[0, 0].set_ylabel(\"Count\")\n",
    "\n",
    "axes[0, 1].hist(cleaned_data.age, bins=30)\n",
    "axes[0, 1].set_title(\"Age\")\n",
    "axes[0, 1].set_xlabel(\"Age\")\n",
    "axes[0, 1].set_ylabel(\"Count\")\n",
    "\n",
    "cleaned_data.hypertension.value_counts().plot(kind=\"bar\", ax=axes[0, 2])\n",
    "axes[0, 2].set_title(\"Hypertension\")\n",
    "axes[0, 2].set_xlabel(\"Hypertension\")\n",
    "axes[0, 2].set_ylabel(\"Count\")\n",
    "\n",
    "cleaned_data.heart_disease.value_counts().plot(kind=\"bar\", ax=axes[0, 3])\n",
    "axes[0, 3].set_title(\"Heart disease\")\n",
    "axes[0, 3].set_xlabel(\"Heart disease\")\n",
    "axes[0, 3].set_ylabel(\"Count\")\n",
    "\n",
    "cleaned_data.ever_married.value_counts().plot(kind=\"bar\", ax=axes[1, 0])\n",
    "axes[1, 0].set_title(\"Marital status (ever married)\")\n",
    "axes[1, 0].set_xlabel(\"Marital status (ever married)\")\n",
    "axes[1, 0].set_ylabel(\"Count\")\n",
    "\n",
    "cleaned_data.work_type.value_counts().plot(kind=\"bar\", ax=axes[1, 1])\n",
    "axes[1, 1].set_title(\"Work type\")\n",
    "axes[1, 1].set_xlabel(\"work_type\")\n",
    "axes[1, 1].set_ylabel(\"Count\")\n",
    "\n",
    "cleaned_data.Residence_type.value_counts().plot(kind=\"bar\", ax=axes[1, 2])\n",
    "axes[1, 2].set_title(\"Residence type\")\n",
    "axes[1, 2].set_xlabel(\"Residence type\")\n",
    "axes[1, 2].set_ylabel(\"Count\")\n",
    "\n",
    "axes[1, 3].hist(cleaned_data.avg_glucose_level, bins=30)\n",
    "axes[1, 3].set_title(\"Average Glucose Level\")\n",
    "axes[1, 3].set_xlabel(\"Average Glucose Level\")\n",
    "axes[1, 3].set_ylabel(\"Count\")\n",
    "\n",
    "axes[2, 0].hist(cleaned_data.bmi, bins=30)\n",
    "axes[2, 0].set_title(\"BMI\")\n",
    "axes[2, 0].set_xlabel(\"BMI\")\n",
    "axes[2, 0].set_ylabel(\"Count\")\n",
    "\n",
    "cleaned_data.smoking_status.value_counts().plot(kind=\"bar\", ax=axes[2, 1])\n",
    "axes[2, 1].set_title(\"Smoking status\")\n",
    "axes[2, 1].set_xlabel(\"Smoking status\")\n",
    "axes[2, 1].set_ylabel(\"Count\")\n",
    "\n",
    "cleaned_data.stroke.value_counts().plot(kind=\"bar\", ax=axes[2, 2])\n",
    "axes[2, 2].set_title(\"Stroke\")\n",
    "axes[2, 2].set_xlabel(\"Stroke\")\n",
    "axes[2, 2].set_ylabel(\"Count\")\n",
    "\n",
    "# Hide the remaining subplots\n",
    "axes[2, 3].axis(\"off\")\n",
    "\n"
   ]
  },
  {
   "cell_type": "raw",
   "metadata": {},
   "source": [
    "cleaned_date_without_encode =cleaned_data"
   ]
  },
  {
   "cell_type": "raw",
   "metadata": {},
   "source": [
    "cleaned_date_without_encode[\"stroke\"]  = cleaned_date_without_encode[\"stroke\"].replace({0: 1, 1: 2})"
   ]
  },
  {
   "cell_type": "raw",
   "metadata": {},
   "source": [
    "cleaned_date_without_encode.to_csv('Stroke_cleaned_dataset_without_encode.csv', index=False)"
   ]
  },
  {
   "cell_type": "raw",
   "metadata": {},
   "source": [
    "cleaned_date_without_encode.info()"
   ]
  },
  {
   "cell_type": "raw",
   "metadata": {},
   "source": [
    "import pandas as pd\n",
    "from imblearn.under_sampling import RandomUnderSampler"
   ]
  },
  {
   "cell_type": "raw",
   "metadata": {},
   "source": [
    "X = cleaned_date_without_encode.drop(\"stroke\", axis=1)\n",
    "Y = cleaned_date_without_encode[\"stroke\"]"
   ]
  },
  {
   "cell_type": "raw",
   "metadata": {},
   "source": [
    "rus = RandomUnderSampler(sampling_strategy=1.0, random_state=42)"
   ]
  },
  {
   "cell_type": "raw",
   "metadata": {},
   "source": [
    "X_resampled, Y_resampled = rus.fit_resample(X, Y)"
   ]
  },
  {
   "cell_type": "raw",
   "metadata": {},
   "source": [
    "# Create the final DataFrame with the undersampled data\n",
    "cleaneddata_withoutencode_undersampling = pd.concat([X_resampled, Y_resampled], axis=1)"
   ]
  },
  {
   "cell_type": "raw",
   "metadata": {},
   "source": [
    "# Save the final dataset as a CSV file\n",
    "cleaneddata_withoutencode_undersampling.to_csv(\"cleaneddata_withoutencode_undersampling.csv\", index=False)"
   ]
  },
  {
   "cell_type": "raw",
   "metadata": {},
   "source": [
    "cleaneddata_withoutencode_undersampling.info()"
   ]
  },
  {
   "cell_type": "markdown",
   "metadata": {
    "id": "OgcUB-dYUAZ4"
   },
   "source": [
    "# Data Encoding\n",
    "\n",
    "1.  Gender\n",
    "*   Female - 0\n",
    "*   Male - 1\n",
    "\n",
    "\n",
    "2.  Ever_Married\n",
    "*   No - 0\n",
    "*   Yes - 1\n",
    "\n",
    "3.  Work type\n",
    "*   Govt_job - 0\n",
    "*   Never_worked - 1\n",
    "*   Private - 2\n",
    "*   Self-employed - 3\n",
    "*   children - 4\n",
    "\n",
    "4.  Residence type\n",
    "*   Rural - 0\n",
    "*   Urban - 1\n",
    "\n",
    "5.  Smoking status\n",
    "*   Unknown - 0\n",
    "*   formerly smoked - 1\n",
    "*   never smoked - 2\n",
    "*   smokes - 3"
   ]
  },
  {
   "cell_type": "markdown",
   "metadata": {
    "id": "-S5u2CEfjb3l"
   },
   "source": [
    "### Gender"
   ]
  },
  {
   "cell_type": "code",
   "execution_count": 45,
   "metadata": {
    "colab": {
     "base_uri": "https://localhost:8080/"
    },
    "executionInfo": {
     "elapsed": 2,
     "status": "ok",
     "timestamp": 1683606816049,
     "user": {
      "displayName": "Clarice Lau",
      "userId": "09231424434464769679"
     },
     "user_tz": -480
    },
    "id": "zKi4n4oIUI48",
    "outputId": "87c430da-d0ec-4f91-a6a1-ee156993d4de"
   },
   "outputs": [
    {
     "data": {
      "text/plain": [
       "array(['Female', 'Male'], dtype=object)"
      ]
     },
     "execution_count": 45,
     "metadata": {},
     "output_type": "execute_result"
    }
   ],
   "source": [
    "cleaned_data['gender'].unique()"
   ]
  },
  {
   "cell_type": "code",
   "execution_count": 46,
   "metadata": {
    "colab": {
     "base_uri": "https://localhost:8080/"
    },
    "executionInfo": {
     "elapsed": 3,
     "status": "ok",
     "timestamp": 1683606817079,
     "user": {
      "displayName": "Clarice Lau",
      "userId": "09231424434464769679"
     },
     "user_tz": -480
    },
    "id": "XNrPzrn-iXF3",
    "outputId": "c0b6e7e1-a48a-4bde-85de-2500ca289385"
   },
   "outputs": [
    {
     "data": {
      "text/plain": [
       "array([0, 1])"
      ]
     },
     "execution_count": 46,
     "metadata": {},
     "output_type": "execute_result"
    }
   ],
   "source": [
    "from sklearn import preprocessing\n",
    "label_encoder = preprocessing.LabelEncoder()\n",
    "  \n",
    "cleaned_data['gender']= label_encoder.fit_transform(cleaned_data['gender'])\n",
    "cleaned_data['gender'].unique()"
   ]
  },
  {
   "cell_type": "markdown",
   "metadata": {
    "id": "s0JzUuvpjjUX"
   },
   "source": [
    "### Ever_married"
   ]
  },
  {
   "cell_type": "code",
   "execution_count": 47,
   "metadata": {
    "colab": {
     "base_uri": "https://localhost:8080/"
    },
    "executionInfo": {
     "elapsed": 2,
     "status": "ok",
     "timestamp": 1683606818220,
     "user": {
      "displayName": "Clarice Lau",
      "userId": "09231424434464769679"
     },
     "user_tz": -480
    },
    "id": "W7RnR2Objr6T",
    "outputId": "45404069-2164-471e-c597-ac81a773490d"
   },
   "outputs": [
    {
     "data": {
      "text/plain": [
       "array(['No', 'Yes'], dtype=object)"
      ]
     },
     "execution_count": 47,
     "metadata": {},
     "output_type": "execute_result"
    }
   ],
   "source": [
    "cleaned_data['ever_married'].unique()"
   ]
  },
  {
   "cell_type": "code",
   "execution_count": 48,
   "metadata": {
    "colab": {
     "base_uri": "https://localhost:8080/"
    },
    "executionInfo": {
     "elapsed": 4,
     "status": "ok",
     "timestamp": 1683606819056,
     "user": {
      "displayName": "Clarice Lau",
      "userId": "09231424434464769679"
     },
     "user_tz": -480
    },
    "id": "wLyRR3hgjvFK",
    "outputId": "efe77dac-c56e-4bec-eac8-fbb5828aa5e2"
   },
   "outputs": [
    {
     "data": {
      "text/plain": [
       "array([0, 1])"
      ]
     },
     "execution_count": 48,
     "metadata": {},
     "output_type": "execute_result"
    }
   ],
   "source": [
    "cleaned_data['ever_married']= label_encoder.fit_transform(cleaned_data['ever_married'])\n",
    "cleaned_data['ever_married'].unique()"
   ]
  },
  {
   "cell_type": "markdown",
   "metadata": {
    "id": "evhZTrNBkA1E"
   },
   "source": [
    "### Work_type"
   ]
  },
  {
   "cell_type": "code",
   "execution_count": 49,
   "metadata": {
    "colab": {
     "base_uri": "https://localhost:8080/"
    },
    "executionInfo": {
     "elapsed": 580,
     "status": "ok",
     "timestamp": 1683606821040,
     "user": {
      "displayName": "Clarice Lau",
      "userId": "09231424434464769679"
     },
     "user_tz": -480
    },
    "id": "pCidLjoekG_2",
    "outputId": "0162832b-c776-4423-f661-1d79009e4114"
   },
   "outputs": [
    {
     "data": {
      "text/plain": [
       "array(['Private', 'children', 'Govt_job', 'Self-employed', 'Never_worked'],\n",
       "      dtype=object)"
      ]
     },
     "execution_count": 49,
     "metadata": {},
     "output_type": "execute_result"
    }
   ],
   "source": [
    "cleaned_data['work_type'].unique()"
   ]
  },
  {
   "cell_type": "code",
   "execution_count": 50,
   "metadata": {
    "colab": {
     "base_uri": "https://localhost:8080/"
    },
    "executionInfo": {
     "elapsed": 2,
     "status": "ok",
     "timestamp": 1683606821382,
     "user": {
      "displayName": "Clarice Lau",
      "userId": "09231424434464769679"
     },
     "user_tz": -480
    },
    "id": "aSNBCOXqkRI2",
    "outputId": "9c2dd8c1-3c27-4655-f2c7-57150d8bd458"
   },
   "outputs": [
    {
     "data": {
      "text/plain": [
       "array([2, 4, 0, 3, 1])"
      ]
     },
     "execution_count": 50,
     "metadata": {},
     "output_type": "execute_result"
    }
   ],
   "source": [
    "cleaned_data['work_type']= label_encoder.fit_transform(cleaned_data['work_type'])\n",
    "cleaned_data['work_type'].unique()"
   ]
  },
  {
   "cell_type": "markdown",
   "metadata": {
    "id": "XuOHLP5UkvXl"
   },
   "source": [
    "### Residence_type"
   ]
  },
  {
   "cell_type": "code",
   "execution_count": 51,
   "metadata": {
    "colab": {
     "base_uri": "https://localhost:8080/"
    },
    "executionInfo": {
     "elapsed": 435,
     "status": "ok",
     "timestamp": 1683606823198,
     "user": {
      "displayName": "Clarice Lau",
      "userId": "09231424434464769679"
     },
     "user_tz": -480
    },
    "id": "aJXlTbClk0ii",
    "outputId": "db5e3f8c-40e8-4af6-f110-b2a658c88ba6"
   },
   "outputs": [
    {
     "data": {
      "text/plain": [
       "array(['Urban', 'Rural'], dtype=object)"
      ]
     },
     "execution_count": 51,
     "metadata": {},
     "output_type": "execute_result"
    }
   ],
   "source": [
    "cleaned_data['Residence_type'].unique()"
   ]
  },
  {
   "cell_type": "code",
   "execution_count": 52,
   "metadata": {
    "colab": {
     "base_uri": "https://localhost:8080/"
    },
    "executionInfo": {
     "elapsed": 4,
     "status": "ok",
     "timestamp": 1683606823565,
     "user": {
      "displayName": "Clarice Lau",
      "userId": "09231424434464769679"
     },
     "user_tz": -480
    },
    "id": "A2c23oBNk6fO",
    "outputId": "10499bd6-0b43-46ac-a907-1824796f1bd3"
   },
   "outputs": [
    {
     "data": {
      "text/plain": [
       "array([1, 0])"
      ]
     },
     "execution_count": 52,
     "metadata": {},
     "output_type": "execute_result"
    }
   ],
   "source": [
    "cleaned_data['Residence_type']= label_encoder.fit_transform(cleaned_data['Residence_type'])\n",
    "cleaned_data['Residence_type'].unique()"
   ]
  },
  {
   "cell_type": "markdown",
   "metadata": {
    "id": "RZXrGneUlFuX"
   },
   "source": [
    "### smoking_status"
   ]
  },
  {
   "cell_type": "code",
   "execution_count": 53,
   "metadata": {
    "colab": {
     "base_uri": "https://localhost:8080/"
    },
    "executionInfo": {
     "elapsed": 2,
     "status": "ok",
     "timestamp": 1683606824344,
     "user": {
      "displayName": "Clarice Lau",
      "userId": "09231424434464769679"
     },
     "user_tz": -480
    },
    "id": "wU8vlFkNlLgR",
    "outputId": "3f49f352-3b36-4ca1-d3d9-19833338b2d1"
   },
   "outputs": [
    {
     "data": {
      "text/plain": [
       "array(['formerly smoked', 'Unknown', 'never smoked', 'smokes'],\n",
       "      dtype=object)"
      ]
     },
     "execution_count": 53,
     "metadata": {},
     "output_type": "execute_result"
    }
   ],
   "source": [
    "cleaned_data['smoking_status'].unique()"
   ]
  },
  {
   "cell_type": "code",
   "execution_count": 54,
   "metadata": {
    "colab": {
     "base_uri": "https://localhost:8080/"
    },
    "executionInfo": {
     "elapsed": 333,
     "status": "ok",
     "timestamp": 1683606825228,
     "user": {
      "displayName": "Clarice Lau",
      "userId": "09231424434464769679"
     },
     "user_tz": -480
    },
    "id": "oICY99kglQWM",
    "outputId": "5728785c-f109-4238-efc7-6d305ba15d12"
   },
   "outputs": [
    {
     "data": {
      "text/plain": [
       "array([1, 0, 2, 3])"
      ]
     },
     "execution_count": 54,
     "metadata": {},
     "output_type": "execute_result"
    }
   ],
   "source": [
    "cleaned_data['smoking_status']= label_encoder.fit_transform(cleaned_data['smoking_status'])\n",
    "cleaned_data['smoking_status'].unique()"
   ]
  },
  {
   "cell_type": "code",
   "execution_count": 55,
   "metadata": {
    "colab": {
     "base_uri": "https://localhost:8080/"
    },
    "executionInfo": {
     "elapsed": 344,
     "status": "ok",
     "timestamp": 1683606826847,
     "user": {
      "displayName": "Clarice Lau",
      "userId": "09231424434464769679"
     },
     "user_tz": -480
    },
    "id": "7wf2UcpMiuca",
    "outputId": "3dbc051e-d419-455c-dd8e-d5a18702af81"
   },
   "outputs": [
    {
     "name": "stdout",
     "output_type": "stream",
     "text": [
      "      gender   age  hypertension  heart_disease  ever_married  work_type  \\\n",
      "1          0  17.0             0              0             0          2   \n",
      "2          0  13.0             0              0             0          4   \n",
      "3          1  55.0             0              0             1          2   \n",
      "4          0  42.0             0              0             0          2   \n",
      "5          0  38.0             0              0             1          2   \n",
      "...      ...   ...           ...            ...           ...        ...   \n",
      "4971       1  47.0             0              0             1          2   \n",
      "4972       0  19.0             0              0             0          2   \n",
      "4973       0  45.0             0              0             1          2   \n",
      "4974       0  53.0             1              0             1          2   \n",
      "4975       0   2.0             0              0             0          4   \n",
      "\n",
      "      Residence_type  avg_glucose_level        bmi  smoking_status  stroke  \n",
      "1                  1              92.97  28.410862               1       0  \n",
      "2                  0              85.81  18.600000               0       0  \n",
      "3                  1              89.17  31.500000               2       0  \n",
      "4                  1              98.53  18.500000               2       0  \n",
      "5                  1              91.44  28.410862               0       0  \n",
      "...              ...                ...        ...             ...     ...  \n",
      "4971               0              75.30  25.000000               1       0  \n",
      "4972               1              90.57  24.200000               0       0  \n",
      "4973               1             172.33  45.300000               1       0  \n",
      "4974               1              62.55  30.300000               0       1  \n",
      "4975               1             102.92  17.600000               0       0  \n",
      "\n",
      "[4975 rows x 11 columns]\n"
     ]
    }
   ],
   "source": [
    "print(cleaned_data)"
   ]
  },
  {
   "cell_type": "markdown",
   "metadata": {
    "id": "ArJn8w0S57ad"
   },
   "source": [
    "### Correlation"
   ]
  },
  {
   "cell_type": "code",
   "execution_count": 56,
   "metadata": {
    "colab": {
     "base_uri": "https://localhost:8080/",
     "height": 547
    },
    "executionInfo": {
     "elapsed": 5,
     "status": "ok",
     "timestamp": 1683468936532,
     "user": {
      "displayName": "Clarice Lau",
      "userId": "09231424434464769679"
     },
     "user_tz": -480
    },
    "id": "6tNYpiaH6vPY",
    "outputId": "ed140727-72e8-45fd-b215-3f929dc12d8d"
   },
   "outputs": [
    {
     "data": {
      "image/png": "[encoded data removed]",
      "text/plain": [
       "<Figure size 2000x1500 with 13 Axes>"
      ]
     },
     "metadata": {},
     "output_type": "display_data"
    }
   ],
   "source": [
    "corrmat = cleaned_data.corr()\n",
    "hm = sns.heatmap(corrmat, \n",
    "                 cbar=True, \n",
    "                 annot=True, \n",
    "                 square=True, \n",
    "                 fmt='.2f', \n",
    "                 annot_kws={'size': 10}, \n",
    "                 yticklabels=cleaned_data.columns, \n",
    "                 xticklabels=cleaned_data.columns, \n",
    "                 cmap=\"Spectral_r\")\n",
    "plt.show()"
   ]
  },
  {
   "cell_type": "markdown",
   "metadata": {
    "id": "388vXeTvzfDU"
   },
   "source": [
    "- The correlation between features and stroke that less than 0.1: \n",
    "\n",
    "> Gender \n",
    "\n",
    "> Work Type\n",
    "\n",
    "> Residence Type\n",
    "\n",
    ">BMI\n",
    "\n",
    ">Smoking Status\n",
    "\n",
    "\n",
    "- The correlation between features and stroke that more than 0.1: \n",
    "\n",
    ">Age\n",
    "\n",
    ">Hypertension\n",
    "\n",
    ">Heart Disease\n",
    "\n",
    ">Ever Married\n",
    "\n",
    ">Average Glucose Level\n",
    "\n",
    "\n"
   ]
  },
  {
   "cell_type": "raw",
   "metadata": {},
   "source": [
    "cleaned_data[\"stroke\"] = cleaned_data[\"stroke\"].replace({0: 1, 1: 2})"
   ]
  },
  {
   "cell_type": "raw",
   "metadata": {},
   "source": [
    "cleaned_data"
   ]
  },
  {
   "cell_type": "raw",
   "metadata": {},
   "source": [
    "cleaned_data.to_csv('Stroke_cleaned_dataset.csv', index=False)"
   ]
  },
  {
   "cell_type": "raw",
   "metadata": {},
   "source": [
    "cleaned_data.info()"
   ]
  },
  {
   "cell_type": "raw",
   "metadata": {},
   "source": [
    "X = cleaned_data.drop(\"stroke\", axis=1)\n",
    "Y = cleaned_data[\"stroke\"]"
   ]
  },
  {
   "cell_type": "raw",
   "metadata": {},
   "source": [
    "rus = RandomUnderSampler(sampling_strategy=0.3, random_state=42)"
   ]
  },
  {
   "cell_type": "raw",
   "metadata": {},
   "source": [
    "X_resampled, Y_resampled = rus.fit_resample(X, Y)"
   ]
  },
  {
   "cell_type": "raw",
   "metadata": {},
   "source": [
    "# Create the final DataFrame with the undersampled data\n",
    "cleaneddata_undersampling = pd.concat([X_resampled, Y_resampled], axis=1)"
   ]
  },
  {
   "cell_type": "raw",
   "metadata": {},
   "source": [
    "# Save the final dataset as a CSV file\n",
    "cleaneddata_undersampling.to_csv(\"cleaneddata_undersampling.csv\", index=False)"
   ]
  },
  {
   "cell_type": "raw",
   "metadata": {},
   "source": [
    "cleaneddata_undersampling.info()"
   ]
  },
  {
   "cell_type": "raw",
   "metadata": {},
   "source": [
    "from imblearn.over_sampling import SMOTE\n",
    "smote=SMOTE()\n",
    "x_smote,y_smote=smote.fit_resample(X,Y)"
   ]
  },
  {
   "cell_type": "raw",
   "metadata": {},
   "source": [
    "# Create the final DataFrame with the undersampled data\n",
    "cleaneddata_SMOTE = pd.concat([x_smote, y_smote], axis=1)"
   ]
  },
  {
   "cell_type": "raw",
   "metadata": {},
   "source": [
    "# Save the final dataset as a CSV file\n",
    "cleaneddata_SMOTE.to_csv(\"cleaneddata_SMOTE.csv\", index=False)"
   ]
  },
  {
   "cell_type": "raw",
   "metadata": {},
   "source": [
    "cleaneddata_SMOTE.info()"
   ]
  },
  {
   "cell_type": "code",
   "execution_count": null,
   "metadata": {},
   "outputs": [],
   "source": []
  },
  {
   "cell_type": "markdown",
   "metadata": {},
   "source": [
    "## Pei Lin Modelling Part"
   ]
  },
  {
   "cell_type": "markdown",
   "metadata": {},
   "source": [
    "### two-class logistic regression"
   ]
  },
  {
   "cell_type": "code",
   "execution_count": 57,
   "metadata": {},
   "outputs": [],
   "source": [
    "import pandas as pd\n",
    "from sklearn.model_selection import train_test_split\n",
    "from sklearn.linear_model import LogisticRegression\n",
    "from sklearn.metrics import accuracy_score, precision_score, recall_score, f1_score, roc_auc_score"
   ]
  },
  {
   "cell_type": "code",
   "execution_count": 58,
   "metadata": {},
   "outputs": [
    {
     "data": {
      "text/html": [
       "<div>\n",
       "<style scoped>\n",
       "    .dataframe tbody tr th:only-of-type {\n",
       "        vertical-align: middle;\n",
       "    }\n",
       "\n",
       "    .dataframe tbody tr th {\n",
       "        vertical-align: top;\n",
       "    }\n",
       "\n",
       "    .dataframe thead th {\n",
       "        text-align: right;\n",
       "    }\n",
       "</style>\n",
       "<table border=\"1\" class=\"dataframe\">\n",
       "  <thead>\n",
       "    <tr style=\"text-align: right;\">\n",
       "      <th></th>\n",
       "      <th>gender</th>\n",
       "      <th>age</th>\n",
       "      <th>hypertension</th>\n",
       "      <th>heart_disease</th>\n",
       "      <th>ever_married</th>\n",
       "      <th>work_type</th>\n",
       "      <th>Residence_type</th>\n",
       "      <th>avg_glucose_level</th>\n",
       "      <th>bmi</th>\n",
       "      <th>smoking_status</th>\n",
       "      <th>stroke</th>\n",
       "    </tr>\n",
       "  </thead>\n",
       "  <tbody>\n",
       "    <tr>\n",
       "      <th>1</th>\n",
       "      <td>0</td>\n",
       "      <td>17.0</td>\n",
       "      <td>0</td>\n",
       "      <td>0</td>\n",
       "      <td>0</td>\n",
       "      <td>2</td>\n",
       "      <td>1</td>\n",
       "      <td>92.97</td>\n",
       "      <td>28.410862</td>\n",
       "      <td>1</td>\n",
       "      <td>0</td>\n",
       "    </tr>\n",
       "    <tr>\n",
       "      <th>2</th>\n",
       "      <td>0</td>\n",
       "      <td>13.0</td>\n",
       "      <td>0</td>\n",
       "      <td>0</td>\n",
       "      <td>0</td>\n",
       "      <td>4</td>\n",
       "      <td>0</td>\n",
       "      <td>85.81</td>\n",
       "      <td>18.600000</td>\n",
       "      <td>0</td>\n",
       "      <td>0</td>\n",
       "    </tr>\n",
       "    <tr>\n",
       "      <th>3</th>\n",
       "      <td>1</td>\n",
       "      <td>55.0</td>\n",
       "      <td>0</td>\n",
       "      <td>0</td>\n",
       "      <td>1</td>\n",
       "      <td>2</td>\n",
       "      <td>1</td>\n",
       "      <td>89.17</td>\n",
       "      <td>31.500000</td>\n",
       "      <td>2</td>\n",
       "      <td>0</td>\n",
       "    </tr>\n",
       "    <tr>\n",
       "      <th>4</th>\n",
       "      <td>0</td>\n",
       "      <td>42.0</td>\n",
       "      <td>0</td>\n",
       "      <td>0</td>\n",
       "      <td>0</td>\n",
       "      <td>2</td>\n",
       "      <td>1</td>\n",
       "      <td>98.53</td>\n",
       "      <td>18.500000</td>\n",
       "      <td>2</td>\n",
       "      <td>0</td>\n",
       "    </tr>\n",
       "    <tr>\n",
       "      <th>5</th>\n",
       "      <td>0</td>\n",
       "      <td>38.0</td>\n",
       "      <td>0</td>\n",
       "      <td>0</td>\n",
       "      <td>1</td>\n",
       "      <td>2</td>\n",
       "      <td>1</td>\n",
       "      <td>91.44</td>\n",
       "      <td>28.410862</td>\n",
       "      <td>0</td>\n",
       "      <td>0</td>\n",
       "    </tr>\n",
       "    <tr>\n",
       "      <th>...</th>\n",
       "      <td>...</td>\n",
       "      <td>...</td>\n",
       "      <td>...</td>\n",
       "      <td>...</td>\n",
       "      <td>...</td>\n",
       "      <td>...</td>\n",
       "      <td>...</td>\n",
       "      <td>...</td>\n",
       "      <td>...</td>\n",
       "      <td>...</td>\n",
       "      <td>...</td>\n",
       "    </tr>\n",
       "    <tr>\n",
       "      <th>4971</th>\n",
       "      <td>1</td>\n",
       "      <td>47.0</td>\n",
       "      <td>0</td>\n",
       "      <td>0</td>\n",
       "      <td>1</td>\n",
       "      <td>2</td>\n",
       "      <td>0</td>\n",
       "      <td>75.30</td>\n",
       "      <td>25.000000</td>\n",
       "      <td>1</td>\n",
       "      <td>0</td>\n",
       "    </tr>\n",
       "    <tr>\n",
       "      <th>4972</th>\n",
       "      <td>0</td>\n",
       "      <td>19.0</td>\n",
       "      <td>0</td>\n",
       "      <td>0</td>\n",
       "      <td>0</td>\n",
       "      <td>2</td>\n",
       "      <td>1</td>\n",
       "      <td>90.57</td>\n",
       "      <td>24.200000</td>\n",
       "      <td>0</td>\n",
       "      <td>0</td>\n",
       "    </tr>\n",
       "    <tr>\n",
       "      <th>4973</th>\n",
       "      <td>0</td>\n",
       "      <td>45.0</td>\n",
       "      <td>0</td>\n",
       "      <td>0</td>\n",
       "      <td>1</td>\n",
       "      <td>2</td>\n",
       "      <td>1</td>\n",
       "      <td>172.33</td>\n",
       "      <td>45.300000</td>\n",
       "      <td>1</td>\n",
       "      <td>0</td>\n",
       "    </tr>\n",
       "    <tr>\n",
       "      <th>4974</th>\n",
       "      <td>0</td>\n",
       "      <td>53.0</td>\n",
       "      <td>1</td>\n",
       "      <td>0</td>\n",
       "      <td>1</td>\n",
       "      <td>2</td>\n",
       "      <td>1</td>\n",
       "      <td>62.55</td>\n",
       "      <td>30.300000</td>\n",
       "      <td>0</td>\n",
       "      <td>1</td>\n",
       "    </tr>\n",
       "    <tr>\n",
       "      <th>4975</th>\n",
       "      <td>0</td>\n",
       "      <td>2.0</td>\n",
       "      <td>0</td>\n",
       "      <td>0</td>\n",
       "      <td>0</td>\n",
       "      <td>4</td>\n",
       "      <td>1</td>\n",
       "      <td>102.92</td>\n",
       "      <td>17.600000</td>\n",
       "      <td>0</td>\n",
       "      <td>0</td>\n",
       "    </tr>\n",
       "  </tbody>\n",
       "</table>\n",
       "<p>4975 rows × 11 columns</p>\n",
       "</div>"
      ],
      "text/plain": [
       "      gender   age  hypertension  heart_disease  ever_married  work_type  \\\n",
       "1          0  17.0             0              0             0          2   \n",
       "2          0  13.0             0              0             0          4   \n",
       "3          1  55.0             0              0             1          2   \n",
       "4          0  42.0             0              0             0          2   \n",
       "5          0  38.0             0              0             1          2   \n",
       "...      ...   ...           ...            ...           ...        ...   \n",
       "4971       1  47.0             0              0             1          2   \n",
       "4972       0  19.0             0              0             0          2   \n",
       "4973       0  45.0             0              0             1          2   \n",
       "4974       0  53.0             1              0             1          2   \n",
       "4975       0   2.0             0              0             0          4   \n",
       "\n",
       "      Residence_type  avg_glucose_level        bmi  smoking_status  stroke  \n",
       "1                  1              92.97  28.410862               1       0  \n",
       "2                  0              85.81  18.600000               0       0  \n",
       "3                  1              89.17  31.500000               2       0  \n",
       "4                  1              98.53  18.500000               2       0  \n",
       "5                  1              91.44  28.410862               0       0  \n",
       "...              ...                ...        ...             ...     ...  \n",
       "4971               0              75.30  25.000000               1       0  \n",
       "4972               1              90.57  24.200000               0       0  \n",
       "4973               1             172.33  45.300000               1       0  \n",
       "4974               1              62.55  30.300000               0       1  \n",
       "4975               1             102.92  17.600000               0       0  \n",
       "\n",
       "[4975 rows x 11 columns]"
      ]
     },
     "execution_count": 58,
     "metadata": {},
     "output_type": "execute_result"
    }
   ],
   "source": [
    "cleaned_data"
   ]
  },
  {
   "cell_type": "code",
   "execution_count": 59,
   "metadata": {},
   "outputs": [],
   "source": [
    "# Select the features and the target variable\n",
    "X = cleaned_data.drop(\"stroke\", axis=1)\n",
    "y = cleaned_data[\"stroke\"]"
   ]
  },
  {
   "cell_type": "code",
   "execution_count": 60,
   "metadata": {},
   "outputs": [],
   "source": [
    "from imblearn.under_sampling import RandomUnderSampler"
   ]
  },
  {
   "cell_type": "code",
   "execution_count": 61,
   "metadata": {},
   "outputs": [],
   "source": [
    "rus = RandomUnderSampler(sampling_strategy=0.4, random_state=42)"
   ]
  },
  {
   "cell_type": "code",
   "execution_count": 62,
   "metadata": {},
   "outputs": [],
   "source": [
    "X_resampled, Y_resampled = rus.fit_resample(X, y)"
   ]
  },
  {
   "cell_type": "code",
   "execution_count": 63,
   "metadata": {},
   "outputs": [],
   "source": [
    "# Create the final DataFrame with the undersampled data\n",
    "cleaned_data = pd.concat([X_resampled, Y_resampled], axis=1)"
   ]
  },
  {
   "cell_type": "code",
   "execution_count": 64,
   "metadata": {},
   "outputs": [
    {
     "data": {
      "text/html": [
       "<div>\n",
       "<style scoped>\n",
       "    .dataframe tbody tr th:only-of-type {\n",
       "        vertical-align: middle;\n",
       "    }\n",
       "\n",
       "    .dataframe tbody tr th {\n",
       "        vertical-align: top;\n",
       "    }\n",
       "\n",
       "    .dataframe thead th {\n",
       "        text-align: right;\n",
       "    }\n",
       "</style>\n",
       "<table border=\"1\" class=\"dataframe\">\n",
       "  <thead>\n",
       "    <tr style=\"text-align: right;\">\n",
       "      <th></th>\n",
       "      <th>gender</th>\n",
       "      <th>age</th>\n",
       "      <th>hypertension</th>\n",
       "      <th>heart_disease</th>\n",
       "      <th>ever_married</th>\n",
       "      <th>work_type</th>\n",
       "      <th>Residence_type</th>\n",
       "      <th>avg_glucose_level</th>\n",
       "      <th>bmi</th>\n",
       "      <th>smoking_status</th>\n",
       "      <th>stroke</th>\n",
       "    </tr>\n",
       "  </thead>\n",
       "  <tbody>\n",
       "    <tr>\n",
       "      <th>0</th>\n",
       "      <td>0</td>\n",
       "      <td>41.0</td>\n",
       "      <td>0</td>\n",
       "      <td>0</td>\n",
       "      <td>1</td>\n",
       "      <td>2</td>\n",
       "      <td>0</td>\n",
       "      <td>134.29</td>\n",
       "      <td>26.800000</td>\n",
       "      <td>3</td>\n",
       "      <td>0</td>\n",
       "    </tr>\n",
       "    <tr>\n",
       "      <th>1</th>\n",
       "      <td>0</td>\n",
       "      <td>60.0</td>\n",
       "      <td>0</td>\n",
       "      <td>0</td>\n",
       "      <td>1</td>\n",
       "      <td>3</td>\n",
       "      <td>1</td>\n",
       "      <td>203.04</td>\n",
       "      <td>28.410862</td>\n",
       "      <td>3</td>\n",
       "      <td>0</td>\n",
       "    </tr>\n",
       "    <tr>\n",
       "      <th>2</th>\n",
       "      <td>1</td>\n",
       "      <td>4.0</td>\n",
       "      <td>0</td>\n",
       "      <td>0</td>\n",
       "      <td>0</td>\n",
       "      <td>4</td>\n",
       "      <td>1</td>\n",
       "      <td>85.88</td>\n",
       "      <td>17.700000</td>\n",
       "      <td>0</td>\n",
       "      <td>0</td>\n",
       "    </tr>\n",
       "    <tr>\n",
       "      <th>3</th>\n",
       "      <td>0</td>\n",
       "      <td>17.0</td>\n",
       "      <td>0</td>\n",
       "      <td>0</td>\n",
       "      <td>0</td>\n",
       "      <td>2</td>\n",
       "      <td>0</td>\n",
       "      <td>88.65</td>\n",
       "      <td>30.300000</td>\n",
       "      <td>2</td>\n",
       "      <td>0</td>\n",
       "    </tr>\n",
       "    <tr>\n",
       "      <th>4</th>\n",
       "      <td>0</td>\n",
       "      <td>34.0</td>\n",
       "      <td>0</td>\n",
       "      <td>0</td>\n",
       "      <td>0</td>\n",
       "      <td>2</td>\n",
       "      <td>0</td>\n",
       "      <td>103.43</td>\n",
       "      <td>43.600000</td>\n",
       "      <td>3</td>\n",
       "      <td>0</td>\n",
       "    </tr>\n",
       "    <tr>\n",
       "      <th>...</th>\n",
       "      <td>...</td>\n",
       "      <td>...</td>\n",
       "      <td>...</td>\n",
       "      <td>...</td>\n",
       "      <td>...</td>\n",
       "      <td>...</td>\n",
       "      <td>...</td>\n",
       "      <td>...</td>\n",
       "      <td>...</td>\n",
       "      <td>...</td>\n",
       "      <td>...</td>\n",
       "    </tr>\n",
       "    <tr>\n",
       "      <th>824</th>\n",
       "      <td>0</td>\n",
       "      <td>79.0</td>\n",
       "      <td>0</td>\n",
       "      <td>0</td>\n",
       "      <td>1</td>\n",
       "      <td>2</td>\n",
       "      <td>1</td>\n",
       "      <td>110.85</td>\n",
       "      <td>24.100000</td>\n",
       "      <td>1</td>\n",
       "      <td>1</td>\n",
       "    </tr>\n",
       "    <tr>\n",
       "      <th>825</th>\n",
       "      <td>0</td>\n",
       "      <td>70.0</td>\n",
       "      <td>0</td>\n",
       "      <td>1</td>\n",
       "      <td>1</td>\n",
       "      <td>2</td>\n",
       "      <td>0</td>\n",
       "      <td>59.35</td>\n",
       "      <td>32.300000</td>\n",
       "      <td>1</td>\n",
       "      <td>1</td>\n",
       "    </tr>\n",
       "    <tr>\n",
       "      <th>826</th>\n",
       "      <td>0</td>\n",
       "      <td>57.0</td>\n",
       "      <td>1</td>\n",
       "      <td>0</td>\n",
       "      <td>1</td>\n",
       "      <td>0</td>\n",
       "      <td>0</td>\n",
       "      <td>67.41</td>\n",
       "      <td>32.900000</td>\n",
       "      <td>2</td>\n",
       "      <td>1</td>\n",
       "    </tr>\n",
       "    <tr>\n",
       "      <th>827</th>\n",
       "      <td>1</td>\n",
       "      <td>76.0</td>\n",
       "      <td>0</td>\n",
       "      <td>0</td>\n",
       "      <td>1</td>\n",
       "      <td>2</td>\n",
       "      <td>1</td>\n",
       "      <td>104.47</td>\n",
       "      <td>20.300000</td>\n",
       "      <td>0</td>\n",
       "      <td>1</td>\n",
       "    </tr>\n",
       "    <tr>\n",
       "      <th>828</th>\n",
       "      <td>0</td>\n",
       "      <td>53.0</td>\n",
       "      <td>1</td>\n",
       "      <td>0</td>\n",
       "      <td>1</td>\n",
       "      <td>2</td>\n",
       "      <td>1</td>\n",
       "      <td>62.55</td>\n",
       "      <td>30.300000</td>\n",
       "      <td>0</td>\n",
       "      <td>1</td>\n",
       "    </tr>\n",
       "  </tbody>\n",
       "</table>\n",
       "<p>829 rows × 11 columns</p>\n",
       "</div>"
      ],
      "text/plain": [
       "     gender   age  hypertension  heart_disease  ever_married  work_type  \\\n",
       "0         0  41.0             0              0             1          2   \n",
       "1         0  60.0             0              0             1          3   \n",
       "2         1   4.0             0              0             0          4   \n",
       "3         0  17.0             0              0             0          2   \n",
       "4         0  34.0             0              0             0          2   \n",
       "..      ...   ...           ...            ...           ...        ...   \n",
       "824       0  79.0             0              0             1          2   \n",
       "825       0  70.0             0              1             1          2   \n",
       "826       0  57.0             1              0             1          0   \n",
       "827       1  76.0             0              0             1          2   \n",
       "828       0  53.0             1              0             1          2   \n",
       "\n",
       "     Residence_type  avg_glucose_level        bmi  smoking_status  stroke  \n",
       "0                 0             134.29  26.800000               3       0  \n",
       "1                 1             203.04  28.410862               3       0  \n",
       "2                 1              85.88  17.700000               0       0  \n",
       "3                 0              88.65  30.300000               2       0  \n",
       "4                 0             103.43  43.600000               3       0  \n",
       "..              ...                ...        ...             ...     ...  \n",
       "824               1             110.85  24.100000               1       1  \n",
       "825               0              59.35  32.300000               1       1  \n",
       "826               0              67.41  32.900000               2       1  \n",
       "827               1             104.47  20.300000               0       1  \n",
       "828               1              62.55  30.300000               0       1  \n",
       "\n",
       "[829 rows x 11 columns]"
      ]
     },
     "execution_count": 64,
     "metadata": {},
     "output_type": "execute_result"
    }
   ],
   "source": [
    "cleaned_data"
   ]
  },
  {
   "cell_type": "code",
   "execution_count": 65,
   "metadata": {},
   "outputs": [],
   "source": [
    "cleaned_data.to_csv(\"cleaneddata_0607.csv\", index=False)"
   ]
  },
  {
   "cell_type": "code",
   "execution_count": 66,
   "metadata": {},
   "outputs": [],
   "source": [
    "# Select the features and the target variable\n",
    "X = cleaned_data.drop(\"stroke\", axis=1)\n",
    "y = cleaned_data[\"stroke\"]"
   ]
  },
  {
   "cell_type": "code",
   "execution_count": 67,
   "metadata": {},
   "outputs": [],
   "source": [
    "# Split the dataset into training and testing sets\n",
    "X_train, X_test, y_train, y_test = train_test_split(X, y, test_size=0.3, random_state=42)"
   ]
  },
  {
   "cell_type": "code",
   "execution_count": 68,
   "metadata": {},
   "outputs": [],
   "source": [
    "# Save the trsting dataset as a CSV file\n",
    "X_train.to_csv(\"training_data.csv\", index=False)"
   ]
  },
  {
   "cell_type": "code",
   "execution_count": 69,
   "metadata": {},
   "outputs": [],
   "source": [
    "# Create a logistic regression model\n",
    "model = LogisticRegression(max_iter=1000)"
   ]
  },
  {
   "cell_type": "code",
   "execution_count": 70,
   "metadata": {},
   "outputs": [
    {
     "data": {
      "text/html": [
       "<style>#sk-container-id-1 {color: black;background-color: white;}#sk-container-id-1 pre{padding: 0;}#sk-container-id-1 div.sk-toggleable {background-color: white;}#sk-container-id-1 label.sk-toggleable__label {cursor: pointer;display: block;width: 100%;margin-bottom: 0;padding: 0.3em;box-sizing: border-box;text-align: center;}#sk-container-id-1 label.sk-toggleable__label-arrow:before {content: \"▸\";float: left;margin-right: 0.25em;color: #696969;}#sk-container-id-1 label.sk-toggleable__label-arrow:hover:before {color: black;}#sk-container-id-1 div.sk-estimator:hover label.sk-toggleable__label-arrow:before {color: black;}#sk-container-id-1 div.sk-toggleable__content {max-height: 0;max-width: 0;overflow: hidden;text-align: left;background-color: #f0f8ff;}#sk-container-id-1 div.sk-toggleable__content pre {margin: 0.2em;color: black;border-radius: 0.25em;background-color: #f0f8ff;}#sk-container-id-1 input.sk-toggleable__control:checked~div.sk-toggleable__content {max-height: 200px;max-width: 100%;overflow: auto;}#sk-container-id-1 input.sk-toggleable__control:checked~label.sk-toggleable__label-arrow:before {content: \"▾\";}#sk-container-id-1 div.sk-estimator input.sk-toggleable__control:checked~label.sk-toggleable__label {background-color: #d4ebff;}#sk-container-id-1 div.sk-label input.sk-toggleable__control:checked~label.sk-toggleable__label {background-color: #d4ebff;}#sk-container-id-1 input.sk-hidden--visually {border: 0;clip: rect(1px 1px 1px 1px);clip: rect(1px, 1px, 1px, 1px);height: 1px;margin: -1px;overflow: hidden;padding: 0;position: absolute;width: 1px;}#sk-container-id-1 div.sk-estimator {font-family: monospace;background-color: #f0f8ff;border: 1px dotted black;border-radius: 0.25em;box-sizing: border-box;margin-bottom: 0.5em;}#sk-container-id-1 div.sk-estimator:hover {background-color: #d4ebff;}#sk-container-id-1 div.sk-parallel-item::after {content: \"\";width: 100%;border-bottom: 1px solid gray;flex-grow: 1;}#sk-container-id-1 div.sk-label:hover label.sk-toggleable__label {background-color: #d4ebff;}#sk-container-id-1 div.sk-serial::before {content: \"\";position: absolute;border-left: 1px solid gray;box-sizing: border-box;top: 0;bottom: 0;left: 50%;z-index: 0;}#sk-container-id-1 div.sk-serial {display: flex;flex-direction: column;align-items: center;background-color: white;padding-right: 0.2em;padding-left: 0.2em;position: relative;}#sk-container-id-1 div.sk-item {position: relative;z-index: 1;}#sk-container-id-1 div.sk-parallel {display: flex;align-items: stretch;justify-content: center;background-color: white;position: relative;}#sk-container-id-1 div.sk-item::before, #sk-container-id-1 div.sk-parallel-item::before {content: \"\";position: absolute;border-left: 1px solid gray;box-sizing: border-box;top: 0;bottom: 0;left: 50%;z-index: -1;}#sk-container-id-1 div.sk-parallel-item {display: flex;flex-direction: column;z-index: 1;position: relative;background-color: white;}#sk-container-id-1 div.sk-parallel-item:first-child::after {align-self: flex-end;width: 50%;}#sk-container-id-1 div.sk-parallel-item:last-child::after {align-self: flex-start;width: 50%;}#sk-container-id-1 div.sk-parallel-item:only-child::after {width: 0;}#sk-container-id-1 div.sk-dashed-wrapped {border: 1px dashed gray;margin: 0 0.4em 0.5em 0.4em;box-sizing: border-box;padding-bottom: 0.4em;background-color: white;}#sk-container-id-1 div.sk-label label {font-family: monospace;font-weight: bold;display: inline-block;line-height: 1.2em;}#sk-container-id-1 div.sk-label-container {text-align: center;}#sk-container-id-1 div.sk-container {/* jupyter's `normalize.less` sets `[hidden] { display: none; }` but bootstrap.min.css set `[hidden] { display: none !important; }` so we also need the `!important` here to be able to override the default hidden behavior on the sphinx rendered scikit-learn.org. See: https://github.com/scikit-learn/scikit-learn/issues/21755 */display: inline-block !important;position: relative;}#sk-container-id-1 div.sk-text-repr-fallback {display: none;}</style><div id=\"sk-container-id-1\" class=\"sk-top-container\"><div class=\"sk-text-repr-fallback\"><pre>LogisticRegression(max_iter=1000)</pre><b>In a Jupyter environment, please rerun this cell to show the HTML representation or trust the notebook. <br />On GitHub, the HTML representation is unable to render, please try loading this page with nbviewer.org.</b></div><div class=\"sk-container\" hidden><div class=\"sk-item\"><div class=\"sk-estimator sk-toggleable\"><input class=\"sk-toggleable__control sk-hidden--visually\" id=\"sk-estimator-id-1\" type=\"checkbox\" checked><label for=\"sk-estimator-id-1\" class=\"sk-toggleable__label sk-toggleable__label-arrow\">LogisticRegression</label><div class=\"sk-toggleable__content\"><pre>LogisticRegression(max_iter=1000)</pre></div></div></div></div></div>"
      ],
      "text/plain": [
       "LogisticRegression(max_iter=1000)"
      ]
     },
     "execution_count": 70,
     "metadata": {},
     "output_type": "execute_result"
    }
   ],
   "source": [
    "# Train the model\n",
    "model.fit(X_train, y_train)"
   ]
  },
  {
   "cell_type": "code",
   "execution_count": 71,
   "metadata": {},
   "outputs": [],
   "source": [
    "# Make predictions on the test set\n",
    "y_pred = model.predict(X_test)"
   ]
  },
  {
   "cell_type": "code",
   "execution_count": 72,
   "metadata": {},
   "outputs": [],
   "source": [
    "# Calculate evaluation metrics\n",
    "accuracy = accuracy_score(y_test, y_pred)\n",
    "precision = precision_score(y_test, y_pred)\n",
    "recall = recall_score(y_test, y_pred)\n",
    "f1 = f1_score(y_test, y_pred)\n",
    "auc = roc_auc_score(y_test, y_pred)"
   ]
  },
  {
   "cell_type": "code",
   "execution_count": 73,
   "metadata": {},
   "outputs": [
    {
     "name": "stdout",
     "output_type": "stream",
     "text": [
      "Accuracy: 0.7671\n",
      "Precision: 0.6324\n",
      "Recall: 0.5658\n",
      "F1-Score: 0.5972\n",
      "AUC: 0.7106\n"
     ]
    }
   ],
   "source": [
    "# Print the evaluation metrics with 4 decimal places\n",
    "print(\"Accuracy: {:.4f}\".format(accuracy))\n",
    "print(\"Precision: {:.4f}\".format(precision))\n",
    "print(\"Recall: {:.4f}\".format(recall))\n",
    "print(\"F1-Score: {:.4f}\".format(f1))\n",
    "print(\"AUC: {:.4f}\".format(auc))"
   ]
  },
  {
   "cell_type": "code",
   "execution_count": 74,
   "metadata": {},
   "outputs": [
    {
     "name": "stdout",
     "output_type": "stream",
     "text": [
      "Confusion Matrix:\n",
      "[[148  25]\n",
      " [ 33  43]]\n"
     ]
    }
   ],
   "source": [
    "from sklearn.metrics import confusion_matrix\n",
    "# Calculate the confusion matrix\n",
    "cm = confusion_matrix(y_test, y_pred)\n",
    "print(\"Confusion Matrix:\")\n",
    "print(cm)"
   ]
  },
  {
   "cell_type": "code",
   "execution_count": 75,
   "metadata": {},
   "outputs": [
    {
     "name": "stderr",
     "output_type": "stream",
     "text": [
      "No artists with labels found to put in legend.  Note that artists whose label start with an underscore are ignored when legend() is called with no argument.\n"
     ]
    },
    {
     "data": {
      "image/png": "[encoded data removed]",
      "text/plain": [
       "<Figure size 1000x800 with 1 Axes>"
      ]
     },
     "metadata": {},
     "output_type": "display_data"
    }
   ],
   "source": [
    "import matplotlib.pyplot as plt\n",
    "from sklearn.metrics import roc_curve\n",
    "import numpy as np\n",
    "\n",
    "# Calculate the decision function values for the test set\n",
    "decision_values = model.decision_function(X_test)\n",
    "\n",
    "# Calculate the predicted probabilities using the sigmoid function\n",
    "probability_pred = 1 / (1 + np.exp(-decision_values))\n",
    "\n",
    "# Calculate the false positive rate (fpr) and true positive rate (tpr)\n",
    "fpr, tpr, _ = roc_curve(y_test, probability_pred)\n",
    "\n",
    "# Calculate the AUC score\n",
    "auc = roc_auc_score(y_test, probability_pred)\n",
    "\n",
    "# Plot the ROC curve\n",
    "plt.figure(figsize=(10, 8))\n",
    "plt.plot(fpr, tpr, color='blue', linewidth=5)\n",
    "plt.plot([0, 1], [0, 1], 'k--')  # Plot the diagonal line\n",
    "plt.xlim([0, 1])\n",
    "plt.ylim([0, 1])\n",
    "plt.xlabel('False Positive Rate', fontsize=12)\n",
    "plt.ylabel('True Positive Rate', fontsize=12)\n",
    "plt.legend(loc='lower right', fontsize=12, handlelength=0)\n",
    "plt.grid(True)\n",
    "plt.show()\n"
   ]
  },
  {
   "cell_type": "markdown",
   "metadata": {},
   "source": [
    "### two-class SVM"
   ]
  },
  {
   "cell_type": "code",
   "execution_count": 76,
   "metadata": {},
   "outputs": [],
   "source": [
    "from sklearn.svm import SVC"
   ]
  },
  {
   "cell_type": "code",
   "execution_count": 77,
   "metadata": {},
   "outputs": [],
   "source": [
    "model = SVC()"
   ]
  },
  {
   "cell_type": "code",
   "execution_count": 78,
   "metadata": {},
   "outputs": [
    {
     "data": {
      "text/html": [
       "<style>#sk-container-id-2 {color: black;background-color: white;}#sk-container-id-2 pre{padding: 0;}#sk-container-id-2 div.sk-toggleable {background-color: white;}#sk-container-id-2 label.sk-toggleable__label {cursor: pointer;display: block;width: 100%;margin-bottom: 0;padding: 0.3em;box-sizing: border-box;text-align: center;}#sk-container-id-2 label.sk-toggleable__label-arrow:before {content: \"▸\";float: left;margin-right: 0.25em;color: #696969;}#sk-container-id-2 label.sk-toggleable__label-arrow:hover:before {color: black;}#sk-container-id-2 div.sk-estimator:hover label.sk-toggleable__label-arrow:before {color: black;}#sk-container-id-2 div.sk-toggleable__content {max-height: 0;max-width: 0;overflow: hidden;text-align: left;background-color: #f0f8ff;}#sk-container-id-2 div.sk-toggleable__content pre {margin: 0.2em;color: black;border-radius: 0.25em;background-color: #f0f8ff;}#sk-container-id-2 input.sk-toggleable__control:checked~div.sk-toggleable__content {max-height: 200px;max-width: 100%;overflow: auto;}#sk-container-id-2 input.sk-toggleable__control:checked~label.sk-toggleable__label-arrow:before {content: \"▾\";}#sk-container-id-2 div.sk-estimator input.sk-toggleable__control:checked~label.sk-toggleable__label {background-color: #d4ebff;}#sk-container-id-2 div.sk-label input.sk-toggleable__control:checked~label.sk-toggleable__label {background-color: #d4ebff;}#sk-container-id-2 input.sk-hidden--visually {border: 0;clip: rect(1px 1px 1px 1px);clip: rect(1px, 1px, 1px, 1px);height: 1px;margin: -1px;overflow: hidden;padding: 0;position: absolute;width: 1px;}#sk-container-id-2 div.sk-estimator {font-family: monospace;background-color: #f0f8ff;border: 1px dotted black;border-radius: 0.25em;box-sizing: border-box;margin-bottom: 0.5em;}#sk-container-id-2 div.sk-estimator:hover {background-color: #d4ebff;}#sk-container-id-2 div.sk-parallel-item::after {content: \"\";width: 100%;border-bottom: 1px solid gray;flex-grow: 1;}#sk-container-id-2 div.sk-label:hover label.sk-toggleable__label {background-color: #d4ebff;}#sk-container-id-2 div.sk-serial::before {content: \"\";position: absolute;border-left: 1px solid gray;box-sizing: border-box;top: 0;bottom: 0;left: 50%;z-index: 0;}#sk-container-id-2 div.sk-serial {display: flex;flex-direction: column;align-items: center;background-color: white;padding-right: 0.2em;padding-left: 0.2em;position: relative;}#sk-container-id-2 div.sk-item {position: relative;z-index: 1;}#sk-container-id-2 div.sk-parallel {display: flex;align-items: stretch;justify-content: center;background-color: white;position: relative;}#sk-container-id-2 div.sk-item::before, #sk-container-id-2 div.sk-parallel-item::before {content: \"\";position: absolute;border-left: 1px solid gray;box-sizing: border-box;top: 0;bottom: 0;left: 50%;z-index: -1;}#sk-container-id-2 div.sk-parallel-item {display: flex;flex-direction: column;z-index: 1;position: relative;background-color: white;}#sk-container-id-2 div.sk-parallel-item:first-child::after {align-self: flex-end;width: 50%;}#sk-container-id-2 div.sk-parallel-item:last-child::after {align-self: flex-start;width: 50%;}#sk-container-id-2 div.sk-parallel-item:only-child::after {width: 0;}#sk-container-id-2 div.sk-dashed-wrapped {border: 1px dashed gray;margin: 0 0.4em 0.5em 0.4em;box-sizing: border-box;padding-bottom: 0.4em;background-color: white;}#sk-container-id-2 div.sk-label label {font-family: monospace;font-weight: bold;display: inline-block;line-height: 1.2em;}#sk-container-id-2 div.sk-label-container {text-align: center;}#sk-container-id-2 div.sk-container {/* jupyter's `normalize.less` sets `[hidden] { display: none; }` but bootstrap.min.css set `[hidden] { display: none !important; }` so we also need the `!important` here to be able to override the default hidden behavior on the sphinx rendered scikit-learn.org. See: https://github.com/scikit-learn/scikit-learn/issues/21755 */display: inline-block !important;position: relative;}#sk-container-id-2 div.sk-text-repr-fallback {display: none;}</style><div id=\"sk-container-id-2\" class=\"sk-top-container\"><div class=\"sk-text-repr-fallback\"><pre>SVC()</pre><b>In a Jupyter environment, please rerun this cell to show the HTML representation or trust the notebook. <br />On GitHub, the HTML representation is unable to render, please try loading this page with nbviewer.org.</b></div><div class=\"sk-container\" hidden><div class=\"sk-item\"><div class=\"sk-estimator sk-toggleable\"><input class=\"sk-toggleable__control sk-hidden--visually\" id=\"sk-estimator-id-2\" type=\"checkbox\" checked><label for=\"sk-estimator-id-2\" class=\"sk-toggleable__label sk-toggleable__label-arrow\">SVC</label><div class=\"sk-toggleable__content\"><pre>SVC()</pre></div></div></div></div></div>"
      ],
      "text/plain": [
       "SVC()"
      ]
     },
     "execution_count": 78,
     "metadata": {},
     "output_type": "execute_result"
    }
   ],
   "source": [
    "# Train the model\n",
    "model.fit(X_train, y_train)"
   ]
  },
  {
   "cell_type": "code",
   "execution_count": 79,
   "metadata": {},
   "outputs": [],
   "source": [
    "# Make predictions on the test set\n",
    "y_pred = model.predict(X_test)"
   ]
  },
  {
   "cell_type": "code",
   "execution_count": 80,
   "metadata": {},
   "outputs": [],
   "source": [
    "# Calculate evaluation metrics\n",
    "accuracy = accuracy_score(y_test, y_pred)\n",
    "precision = precision_score(y_test, y_pred)\n",
    "recall = recall_score(y_test, y_pred)\n",
    "f1 = f1_score(y_test, y_pred)\n",
    "auc = roc_auc_score(y_test, y_pred)"
   ]
  },
  {
   "cell_type": "code",
   "execution_count": 81,
   "metadata": {},
   "outputs": [
    {
     "name": "stdout",
     "output_type": "stream",
     "text": [
      "Accuracy: 0.7871\n",
      "Precision: 0.6456\n",
      "Recall: 0.6711\n",
      "F1-Score: 0.6581\n",
      "AUC: 0.7546\n"
     ]
    }
   ],
   "source": [
    "# Print the evaluation metrics with 4 decimal places\n",
    "print(\"Accuracy: {:.4f}\".format(accuracy))\n",
    "print(\"Precision: {:.4f}\".format(precision))\n",
    "print(\"Recall: {:.4f}\".format(recall))\n",
    "print(\"F1-Score: {:.4f}\".format(f1))\n",
    "print(\"AUC: {:.4f}\".format(auc))"
   ]
  },
  {
   "cell_type": "code",
   "execution_count": 82,
   "metadata": {},
   "outputs": [
    {
     "name": "stdout",
     "output_type": "stream",
     "text": [
      "Confusion Matrix:\n",
      "[[145  28]\n",
      " [ 25  51]]\n"
     ]
    }
   ],
   "source": [
    "from sklearn.metrics import confusion_matrix\n",
    "# Calculate the confusion matrix\n",
    "cm = confusion_matrix(y_test, y_pred)\n",
    "print(\"Confusion Matrix:\")\n",
    "print(cm)"
   ]
  },
  {
   "cell_type": "code",
   "execution_count": 83,
   "metadata": {},
   "outputs": [
    {
     "name": "stderr",
     "output_type": "stream",
     "text": [
      "No artists with labels found to put in legend.  Note that artists whose label start with an underscore are ignored when legend() is called with no argument.\n"
     ]
    },
    {
     "data": {
      "image/png": "[encoded data removed]",
      "text/plain": [
       "<Figure size 1000x800 with 1 Axes>"
      ]
     },
     "metadata": {},
     "output_type": "display_data"
    }
   ],
   "source": [
    "import matplotlib.pyplot as plt\n",
    "from sklearn.metrics import roc_curve\n",
    "import numpy as np\n",
    "\n",
    "# Calculate the decision function values for the test set\n",
    "decision_values = model.decision_function(X_test)\n",
    "\n",
    "# Calculate the predicted probabilities using the sigmoid function\n",
    "probability_pred = 1 / (1 + np.exp(-decision_values))\n",
    "\n",
    "# Calculate the false positive rate (fpr) and true positive rate (tpr)\n",
    "fpr, tpr, _ = roc_curve(y_test, probability_pred)\n",
    "\n",
    "# Calculate the AUC score\n",
    "auc = roc_auc_score(y_test, probability_pred)\n",
    "\n",
    "# Plot the ROC curve\n",
    "plt.figure(figsize=(10, 8))\n",
    "plt.plot(fpr, tpr, color='blue', linewidth=5)\n",
    "plt.plot([0, 1], [0, 1], 'k--')  # Plot the diagonal line\n",
    "plt.xlim([0, 1])\n",
    "plt.ylim([0, 1])\n",
    "plt.xlabel('False Positive Rate', fontsize=12)\n",
    "plt.ylabel('True Positive Rate', fontsize=12)\n",
    "plt.legend(loc='lower right', fontsize=12, handlelength=0)\n",
    "plt.grid(True)\n",
    "plt.show()"
   ]
  },
  {
   "cell_type": "code",
   "execution_count": 84,
   "metadata": {},
   "outputs": [],
   "source": [
    "import pickle\n",
    "from sklearn.svm import SVC\n",
    "\n",
    "# Create an SVM classifier\n",
    "model = SVC()\n",
    "\n",
    "# Train the model\n",
    "model.fit(X_train, y_train)\n",
    "\n",
    "# Save the trained model as a pickle file\n",
    "with open(\"svm_model.pkl\", \"wb\") as file:\n",
    "    pickle.dump(model, file)"
   ]
  },
  {
   "cell_type": "code",
   "execution_count": 85,
   "metadata": {},
   "outputs": [
    {
     "name": "stdout",
     "output_type": "stream",
     "text": [
      "Feature names used during training:\n",
      "['gender', 'age', 'hypertension', 'heart_disease', 'ever_married', 'work_type', 'Residence_type', 'avg_glucose_level', 'bmi', 'smoking_status']\n"
     ]
    }
   ],
   "source": [
    "feature_names = X_train.columns.tolist()\n",
    "print(\"Feature names used during training:\")\n",
    "print(feature_names)"
   ]
  },
  {
   "cell_type": "markdown",
   "metadata": {},
   "source": [
    "### Two-class neural network"
   ]
  },
  {
   "cell_type": "raw",
   "metadata": {},
   "source": [
    "from sklearn.neural_network import MLPClassifier\n",
    "\n",
    "# Create a neural network classifier\n",
    "model = MLPClassifier()"
   ]
  },
  {
   "cell_type": "raw",
   "metadata": {},
   "source": [
    "# Train the model\n",
    "model.fit(X_train, y_train)"
   ]
  },
  {
   "cell_type": "raw",
   "metadata": {},
   "source": [
    "# Make predictions on the test set\n",
    "y_pred = model.predict(X_test)"
   ]
  },
  {
   "cell_type": "raw",
   "metadata": {},
   "source": [
    "# Calculate evaluation metrics\n",
    "accuracy = accuracy_score(y_test, y_pred)\n",
    "precision = precision_score(y_test, y_pred)\n",
    "recall = recall_score(y_test, y_pred)\n",
    "f1 = f1_score(y_test, y_pred)\n",
    "auc = roc_auc_score(y_test, y_pred)\n",
    "\n",
    "# Print the evaluation metrics with 4 decimal places\n",
    "print(\"Accuracy: {:.4f}\".format(accuracy))\n",
    "print(\"Precision: {:.4f}\".format(precision))\n",
    "print(\"Recall: {:.4f}\".format(recall))\n",
    "print(\"F1-Score: {:.4f}\".format(f1))\n",
    "print(\"AUC: {:.4f}\".format(auc))"
   ]
  },
  {
   "cell_type": "raw",
   "metadata": {},
   "source": [
    "from sklearn.metrics import confusion_matrix\n",
    "# Calculate the confusion matrix\n",
    "cm = confusion_matrix(y_test, y_pred)\n",
    "print(\"Confusion Matrix:\")\n",
    "print(cm)"
   ]
  },
  {
   "cell_type": "raw",
   "metadata": {},
   "source": [
    "import matplotlib.pyplot as plt\n",
    "from sklearn.metrics import roc_curve\n",
    "from sklearn.neural_network import MLPClassifier\n",
    "\n",
    "# Create an MLPClassifier\n",
    "model = MLPClassifier()\n",
    "\n",
    "# Train the model\n",
    "model.fit(X_train, y_train)\n",
    "\n",
    "# Make predictions on the test set\n",
    "probabilities = model.predict_proba(X_test)\n",
    "probability_pred = probabilities[:, 1]  # Probability of positive class\n",
    "\n",
    "# Calculate the false positive rate (fpr) and true positive rate (tpr)\n",
    "fpr, tpr, _ = roc_curve(y_test, probability_pred)\n",
    "\n",
    "# Calculate the AUC score\n",
    "auc = roc_auc_score(y_test, probability_pred)\n",
    "\n",
    "# Plot the ROC curve\n",
    "plt.figure(figsize=(10, 8))\n",
    "plt.plot(fpr, tpr, color='blue', linewidth=5)\n",
    "plt.plot([0, 1], [0, 1], 'k--')  # Plot the diagonal line\n",
    "plt.xlim([0, 1])\n",
    "plt.ylim([0, 1])\n",
    "plt.xlabel('False Positive Rate', fontsize=12)\n",
    "plt.ylabel('True Positive Rate', fontsize=12)\n",
    "plt.legend(loc='lower right', fontsize=12, handlelength=0)\n",
    "plt.grid(True)\n",
    "plt.show()\n"
   ]
  },
  {
   "cell_type": "markdown",
   "metadata": {},
   "source": [
    "## Two class Decision Forest"
   ]
  },
  {
   "cell_type": "raw",
   "metadata": {},
   "source": [
    "from sklearn.ensemble import RandomForestClassifier"
   ]
  },
  {
   "cell_type": "raw",
   "metadata": {},
   "source": [
    "# Create a Decision Forest classifier\n",
    "model = RandomForestClassifier()"
   ]
  },
  {
   "cell_type": "raw",
   "metadata": {},
   "source": [
    "# Train the model\n",
    "model.fit(X_train, y_train)"
   ]
  },
  {
   "cell_type": "raw",
   "metadata": {},
   "source": [
    "# Make predictions on the test set\n",
    "y_pred = model.predict(X_test)"
   ]
  },
  {
   "cell_type": "raw",
   "metadata": {},
   "source": [
    "# Calculate evaluation metrics\n",
    "accuracy = accuracy_score(y_test, y_pred)\n",
    "precision = precision_score(y_test, y_pred)\n",
    "recall = recall_score(y_test, y_pred)\n",
    "f1 = f1_score(y_test, y_pred)\n",
    "auc = roc_auc_score(y_test, y_pred)\n",
    "\n",
    "# Print the evaluation metrics with 4 decimal places\n",
    "print(\"Accuracy: {:.4f}\".format(accuracy))\n",
    "print(\"Precision: {:.4f}\".format(precision))\n",
    "print(\"Recall: {:.4f}\".format(recall))\n",
    "print(\"F1-Score: {:.4f}\".format(f1))\n",
    "print(\"AUC: {:.4f}\".format(auc))"
   ]
  },
  {
   "cell_type": "raw",
   "metadata": {},
   "source": [
    "from sklearn.metrics import confusion_matrix\n",
    "# Calculate the confusion matrix\n",
    "cm = confusion_matrix(y_test, y_pred)\n",
    "print(\"Confusion Matrix:\")\n",
    "print(cm)"
   ]
  },
  {
   "cell_type": "raw",
   "metadata": {},
   "source": [
    "import matplotlib.pyplot as plt\n",
    "from sklearn.metrics import roc_curve\n",
    "from sklearn.ensemble import RandomForestClassifier\n",
    "\n",
    "# Create a RandomForestClassifier\n",
    "model = RandomForestClassifier()\n",
    "\n",
    "# Train the model\n",
    "model.fit(X_train, y_train)\n",
    "\n",
    "# Make predictions on the test set\n",
    "probabilities = model.predict_proba(X_test)\n",
    "probability_pred = probabilities[:, 1]  # Probability of positive class\n",
    "\n",
    "# Calculate the false positive rate (fpr) and true positive rate (tpr)\n",
    "fpr, tpr, _ = roc_curve(y_test, probability_pred)\n",
    "\n",
    "# Calculate the AUC score\n",
    "auc = roc_auc_score(y_test, probability_pred)\n",
    "\n",
    "# Plot the ROC curve\n",
    "plt.figure(figsize=(10, 8))\n",
    "plt.plot(fpr, tpr, color='blue', linewidth=5)\n",
    "plt.plot([0, 1], [0, 1], 'k--')  # Plot the diagonal line\n",
    "plt.xlim([0, 1])\n",
    "plt.ylim([0, 1])\n",
    "plt.xlabel('False Positive Rate', fontsize=12)\n",
    "plt.ylabel('True Positive Rate', fontsize=12)\n",
    "plt.legend(loc='lower right', fontsize=12, handlelength=0)\n",
    "plt.grid(True)\n",
    "plt.show()\n"
   ]
  },
  {
   "cell_type": "markdown",
   "metadata": {},
   "source": [
    "## Two class Bayes point machine"
   ]
  },
  {
   "cell_type": "raw",
   "metadata": {},
   "source": [
    "from sklearn.mixture import BayesianGaussianMixture\n",
    "from sklearn.metrics import accuracy_score, precision_score, recall_score, f1_score, roc_auc_score\n",
    "\n"
   ]
  },
  {
   "cell_type": "raw",
   "metadata": {},
   "source": [
    "# Create a Bayes Point Machine classifier using Gaussian Mixture Model\n",
    "model = BayesianGaussianMixture(n_components=2)"
   ]
  },
  {
   "cell_type": "raw",
   "metadata": {},
   "source": [
    "# Train the model\n",
    "model.fit(X_train, y_train)"
   ]
  },
  {
   "cell_type": "raw",
   "metadata": {},
   "source": [
    "# Make predictions on the test set\n",
    "y_pred = model.predict(X_test)"
   ]
  },
  {
   "cell_type": "raw",
   "metadata": {},
   "source": [
    "# Calculate evaluation metrics\n",
    "accuracy = accuracy_score(y_test, y_pred)\n",
    "precision = precision_score(y_test, y_pred)\n",
    "recall = recall_score(y_test, y_pred)\n",
    "f1 = f1_score(y_test, y_pred)\n",
    "auc = roc_auc_score(y_test, y_pred)\n",
    "\n",
    "# Print the evaluation metrics with 4 decimal places\n",
    "print(\"Accuracy: {:.4f}\".format(accuracy))\n",
    "print(\"Precision: {:.4f}\".format(precision))\n",
    "print(\"Recall: {:.4f}\".format(recall))\n",
    "print(\"F1-Score: {:.4f}\".format(f1))\n",
    "print(\"AUC: {:.4f}\".format(auc))"
   ]
  },
  {
   "cell_type": "raw",
   "metadata": {},
   "source": [
    "from sklearn.metrics import confusion_matrix\n",
    "# Calculate the confusion matrix\n",
    "cm = confusion_matrix(y_test, y_pred)\n",
    "print(\"Confusion Matrix:\")\n",
    "print(cm)"
   ]
  },
  {
   "cell_type": "raw",
   "metadata": {},
   "source": [
    "import matplotlib.pyplot as plt\n",
    "from sklearn.metrics import roc_curve\n",
    "import numpy as np\n",
    "\n",
    "# Calculate the log-likelihood scores for the test set\n",
    "log_likelihood_scores = model.score_samples(X_test)\n",
    "\n",
    "# Convert log-likelihood scores to probabilities using the sigmoid function\n",
    "probability_pred = 1 / (1 + np.exp(-log_likelihood_scores))\n",
    "\n",
    "# Calculate the false positive rate (fpr) and true positive rate (tpr)\n",
    "fpr, tpr, _ = roc_curve(y_test, probability_pred)\n",
    "\n",
    "# Calculate the AUC score\n",
    "auc = roc_auc_score(y_test, probability_pred)\n",
    "\n",
    "# Plot the ROC curve\n",
    "plt.figure(figsize=(10, 8))\n",
    "plt.plot(fpr, tpr, color='blue', linewidth=5)\n",
    "plt.plot([0, 1], [0, 1], 'k--')  # Plot the diagonal line\n",
    "plt.xlim([0, 1])\n",
    "plt.ylim([0, 1])\n",
    "plt.xlabel('False Positive Rate', fontsize=12)\n",
    "plt.ylabel('True Positive Rate', fontsize=12)\n",
    "plt.legend(loc='lower right', fontsize=12, handlelength=0)\n",
    "plt.grid(True)\n",
    "plt.show()\n",
    "\n"
   ]
  },
  {
   "cell_type": "code",
   "execution_count": null,
   "metadata": {},
   "outputs": [],
   "source": []
  }
 ],
 "metadata": {
  "colab": {
   "provenance": []
  },
  "kernelspec": {
   "display_name": "Python 3 (ipykernel)",
   "language": "python",
   "name": "python3"
  },
  "language_info": {
   "codemirror_mode": {
    "name": "ipython",
    "version": 3
   },
   "file_extension": ".py",
   "mimetype": "text/x-python",
   "name": "python",
   "nbconvert_exporter": "python",
   "pygments_lexer": "ipython3",
   "version": "3.10.9"
  }
 },
 "nbformat": 4,
 "nbformat_minor": 1
}
