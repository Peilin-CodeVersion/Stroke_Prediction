{
 "cells": [
  {
   "cell_type": "code",
   "execution_count": 1,
   "id": "fb1c7b36",
   "metadata": {},
   "outputs": [],
   "source": [
    "import streamlit as st\n",
    "import pandas as pd\n",
    "import numpy as np\n",
    "from sklearn.model_selection import train_test_split\n",
    "from sklearn.svm import SVC"
   ]
  },
  {
   "cell_type": "code",
   "execution_count": 3,
   "id": "a3369f34",
   "metadata": {},
   "outputs": [],
   "source": [
    "cleaned_data = pd.read_csv(\"Stroke_cleaned_dataset.csv\")"
   ]
  },
  {
   "cell_type": "code",
   "execution_count": 4,
   "id": "4fdc630c",
   "metadata": {},
   "outputs": [],
   "source": [
    "X = cleaned_data.drop(\"stroke\", axis=1)\n",
    "y = cleaned_data[\"stroke\"]"
   ]
  },
  {
   "cell_type": "code",
   "execution_count": 5,
   "id": "8cac2d8e",
   "metadata": {},
   "outputs": [],
   "source": [
    "X_train, X_test, y_train, y_test = train_test_split(X, y, test_size=0.3, random_state=42)"
   ]
  },
  {
   "cell_type": "code",
   "execution_count": 6,
   "id": "70e66215",
   "metadata": {},
   "outputs": [
    {
     "data": {
      "text/html": [
       "<style>#sk-container-id-1 {color: black;background-color: white;}#sk-container-id-1 pre{padding: 0;}#sk-container-id-1 div.sk-toggleable {background-color: white;}#sk-container-id-1 label.sk-toggleable__label {cursor: pointer;display: block;width: 100%;margin-bottom: 0;padding: 0.3em;box-sizing: border-box;text-align: center;}#sk-container-id-1 label.sk-toggleable__label-arrow:before {content: \"▸\";float: left;margin-right: 0.25em;color: #696969;}#sk-container-id-1 label.sk-toggleable__label-arrow:hover:before {color: black;}#sk-container-id-1 div.sk-estimator:hover label.sk-toggleable__label-arrow:before {color: black;}#sk-container-id-1 div.sk-toggleable__content {max-height: 0;max-width: 0;overflow: hidden;text-align: left;background-color: #f0f8ff;}#sk-container-id-1 div.sk-toggleable__content pre {margin: 0.2em;color: black;border-radius: 0.25em;background-color: #f0f8ff;}#sk-container-id-1 input.sk-toggleable__control:checked~div.sk-toggleable__content {max-height: 200px;max-width: 100%;overflow: auto;}#sk-container-id-1 input.sk-toggleable__control:checked~label.sk-toggleable__label-arrow:before {content: \"▾\";}#sk-container-id-1 div.sk-estimator input.sk-toggleable__control:checked~label.sk-toggleable__label {background-color: #d4ebff;}#sk-container-id-1 div.sk-label input.sk-toggleable__control:checked~label.sk-toggleable__label {background-color: #d4ebff;}#sk-container-id-1 input.sk-hidden--visually {border: 0;clip: rect(1px 1px 1px 1px);clip: rect(1px, 1px, 1px, 1px);height: 1px;margin: -1px;overflow: hidden;padding: 0;position: absolute;width: 1px;}#sk-container-id-1 div.sk-estimator {font-family: monospace;background-color: #f0f8ff;border: 1px dotted black;border-radius: 0.25em;box-sizing: border-box;margin-bottom: 0.5em;}#sk-container-id-1 div.sk-estimator:hover {background-color: #d4ebff;}#sk-container-id-1 div.sk-parallel-item::after {content: \"\";width: 100%;border-bottom: 1px solid gray;flex-grow: 1;}#sk-container-id-1 div.sk-label:hover label.sk-toggleable__label {background-color: #d4ebff;}#sk-container-id-1 div.sk-serial::before {content: \"\";position: absolute;border-left: 1px solid gray;box-sizing: border-box;top: 0;bottom: 0;left: 50%;z-index: 0;}#sk-container-id-1 div.sk-serial {display: flex;flex-direction: column;align-items: center;background-color: white;padding-right: 0.2em;padding-left: 0.2em;position: relative;}#sk-container-id-1 div.sk-item {position: relative;z-index: 1;}#sk-container-id-1 div.sk-parallel {display: flex;align-items: stretch;justify-content: center;background-color: white;position: relative;}#sk-container-id-1 div.sk-item::before, #sk-container-id-1 div.sk-parallel-item::before {content: \"\";position: absolute;border-left: 1px solid gray;box-sizing: border-box;top: 0;bottom: 0;left: 50%;z-index: -1;}#sk-container-id-1 div.sk-parallel-item {display: flex;flex-direction: column;z-index: 1;position: relative;background-color: white;}#sk-container-id-1 div.sk-parallel-item:first-child::after {align-self: flex-end;width: 50%;}#sk-container-id-1 div.sk-parallel-item:last-child::after {align-self: flex-start;width: 50%;}#sk-container-id-1 div.sk-parallel-item:only-child::after {width: 0;}#sk-container-id-1 div.sk-dashed-wrapped {border: 1px dashed gray;margin: 0 0.4em 0.5em 0.4em;box-sizing: border-box;padding-bottom: 0.4em;background-color: white;}#sk-container-id-1 div.sk-label label {font-family: monospace;font-weight: bold;display: inline-block;line-height: 1.2em;}#sk-container-id-1 div.sk-label-container {text-align: center;}#sk-container-id-1 div.sk-container {/* jupyter's `normalize.less` sets `[hidden] { display: none; }` but bootstrap.min.css set `[hidden] { display: none !important; }` so we also need the `!important` here to be able to override the default hidden behavior on the sphinx rendered scikit-learn.org. See: https://github.com/scikit-learn/scikit-learn/issues/21755 */display: inline-block !important;position: relative;}#sk-container-id-1 div.sk-text-repr-fallback {display: none;}</style><div id=\"sk-container-id-1\" class=\"sk-top-container\"><div class=\"sk-text-repr-fallback\"><pre>SVC()</pre><b>In a Jupyter environment, please rerun this cell to show the HTML representation or trust the notebook. <br />On GitHub, the HTML representation is unable to render, please try loading this page with nbviewer.org.</b></div><div class=\"sk-container\" hidden><div class=\"sk-item\"><div class=\"sk-estimator sk-toggleable\"><input class=\"sk-toggleable__control sk-hidden--visually\" id=\"sk-estimator-id-1\" type=\"checkbox\" checked><label for=\"sk-estimator-id-1\" class=\"sk-toggleable__label sk-toggleable__label-arrow\">SVC</label><div class=\"sk-toggleable__content\"><pre>SVC()</pre></div></div></div></div></div>"
      ],
      "text/plain": [
       "SVC()"
      ]
     },
     "execution_count": 6,
     "metadata": {},
     "output_type": "execute_result"
    }
   ],
   "source": [
    "model = SVC()\n",
    "model.fit(X_train, y_train)"
   ]
  },
  {
   "cell_type": "code",
   "execution_count": 7,
   "id": "2e31876b",
   "metadata": {},
   "outputs": [],
   "source": [
    "gender_mapping = {\"Female\": 0, \"Male\": 1}\n",
    "hypertension_mapping = {\"No\": 0, \"Yes\": 1}\n",
    "heart_disease_mapping = {\"No\": 0, \"Yes\": 1}\n",
    "ever_married_mapping = {\"No\": 0, \"Yes\": 1}\n",
    "work_type_mapping = {\"Govt_job\": 0, \"Never_worked\": 1, \"Private\": 2, \"Self-employed\": 3, \"children\": 4}\n",
    "Residence_type_mapping = {\"Rural\": 0, \"Urban\": 1}\n",
    "smoking_status_mapping = {\"Unknown\": 0, \"formerly smoked\": 1, \"never smoked\": 2, \"smokes\": 3}\n",
    "\n",
    "def preprocess_input(gender, age, hypertension, heart_disease, ever_married, work_type, Residence_type,\n",
    "                     avg_glucose_level, bmi, smoking_status):\n",
    "    gender = gender_mapping[gender]\n",
    "    hypertension = hypertension_mapping[hypertension]\n",
    "    heart_disease = heart_disease_mapping[heart_disease]\n",
    "    ever_married = ever_married_mapping[ever_married]\n",
    "    work_type = work_type_mapping[work_type]\n",
    "    Residence_type = Residence_type_mapping[Residence_type]\n",
    "    smoking_status = smoking_status_mapping[smoking_status]\n",
    "\n",
    "    return np.array([gender, age, hypertension, heart_disease, ever_married, work_type, Residence_type,\n",
    "                     avg_glucose_level, bmi, smoking_status]).reshape(1, -1)\n"
   ]
  },
  {
   "cell_type": "code",
   "execution_count": 8,
   "id": "81aa6e7f",
   "metadata": {},
   "outputs": [
    {
     "name": "stderr",
     "output_type": "stream",
     "text": [
      "2023-06-08 10:41:39.903 \n",
      "  \u001b[33m\u001b[1mWarning:\u001b[0m to view this Streamlit app on a browser, run it with the following\n",
      "  command:\n",
      "\n",
      "    streamlit run C:\\Users\\peili\\anaconda3\\lib\\site-packages\\ipykernel_launcher.py [ARGUMENTS]\n"
     ]
    }
   ],
   "source": [
    "def main():\n",
    "    st.title(\"Stroke Risk Prediction\")\n",
    "\n",
    "    # User input\n",
    "    gender = st.selectbox(\"Gender\", (\"Female\", \"Male\"))\n",
    "    age = st.slider(\"Age\", 0, 100, 50)\n",
    "    hypertension = st.selectbox(\"Hypertension\", (\"No\", \"Yes\"))\n",
    "    heart_disease = st.selectbox(\"Heart Disease\", (\"No\", \"Yes\"))\n",
    "    ever_married = st.selectbox(\"Ever Married\", (\"No\", \"Yes\"))\n",
    "    work_type = st.selectbox(\"Work Type\", (\"Govt_job\", \"Never_worked\", \"Private\", \"Self-employed\", \"children\"))\n",
    "    Residence_type = st.selectbox(\"Residence Type\", (\"Rural\", \"Urban\"))\n",
    "    avg_glucose_level = st.number_input(\"Average Glucose Level\")\n",
    "    bmi = st.number_input(\"BMI\")\n",
    "    smoking_status = st.selectbox(\"Smoking Status\", (\"Unknown\", \"formerly smoked\", \"never smoked\", \"smokes\"))\n",
    "\n",
    "    if st.button(\"Predict\"):\n",
    "        # Preprocess input\n",
    "        input_features = preprocess_input(gender, age, hypertension, heart_disease, ever_married, work_type,\n",
    "                                          Residence_type, avg_glucose_level, bmi, smoking_status)\n",
    "\n",
    "        # Make prediction\n",
    "        prediction = model.predict(input_features)\n",
    "\n",
    "        # Display prediction\n",
    "        if prediction == 0:\n",
    "            st.write(\"Low stroke risk\")\n",
    "        else:\n",
    "            st.write(\"High stroke risk\")\n",
    "\n",
    "if __name__ == \"__main__\":\n",
    "    main()\n"
   ]
  }
 ],
 "metadata": {
  "kernelspec": {
   "display_name": "Python 3 (ipykernel)",
   "language": "python",
   "name": "python3"
  },
  "language_info": {
   "codemirror_mode": {
    "name": "ipython",
    "version": 3
   },
   "file_extension": ".py",
   "mimetype": "text/x-python",
   "name": "python",
   "nbconvert_exporter": "python",
   "pygments_lexer": "ipython3",
   "version": "3.10.9"
  }
 },
 "nbformat": 4,
 "nbformat_minor": 5
}
